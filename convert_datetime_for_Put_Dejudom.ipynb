{
  "nbformat": 4,
  "nbformat_minor": 0,
  "metadata": {
    "colab": {
      "name": "convert_datetime_for_Put_Dejudom.ipynb",
      "provenance": [],
      "toc_visible": true,
      "include_colab_link": true
    },
    "kernelspec": {
      "name": "python3",
      "display_name": "Python 3"
    }
  },
  "cells": [
    {
      "cell_type": "markdown",
      "metadata": {
        "id": "view-in-github",
        "colab_type": "text"
      },
      "source": [
        "<a href=\"https://colab.research.google.com/github/Kokoabassplayer/Kokoabassplayer.github.io/blob/master/convert_datetime_for_Put_Dejudom.ipynb\" target=\"_parent\"><img src=\"https://colab.research.google.com/assets/colab-badge.svg\" alt=\"Open In Colab\"/></a>"
      ]
    },
    {
      "cell_type": "markdown",
      "metadata": {
        "id": "n62rZQh44GoN"
      },
      "source": [
        "\n",
        "\n",
        "เริ่มต้นด้วยการ import library pandas มาก่อนครับ\n"
      ]
    },
    {
      "cell_type": "code",
      "metadata": {
        "id": "ow1u1Zl23KhE"
      },
      "source": [
        "import pandas as pd"
      ],
      "execution_count": null,
      "outputs": []
    },
    {
      "cell_type": "markdown",
      "metadata": {
        "id": "hd-ePSB14BGC"
      },
      "source": [
        "สร้าง Data Frame"
      ]
    },
    {
      "cell_type": "code",
      "metadata": {
        "id": "Yk7-gHbj3_Ug"
      },
      "source": [
        "df = pd.read_csv('/last_accessed_date.csv')"
      ],
      "execution_count": null,
      "outputs": []
    },
    {
      "cell_type": "markdown",
      "metadata": {
        "id": "dAkZq5af8Mbs"
      },
      "source": [
        "ดูหน้าตาข้อมูลว่าเป็นอย่างไร"
      ]
    },
    {
      "cell_type": "code",
      "metadata": {
        "id": "4hkZLi1a8NJB",
        "outputId": "5923288a-00f4-40ff-da0b-516b02ee7f79",
        "colab": {
          "base_uri": "https://localhost:8080/",
          "height": 359
        }
      },
      "source": [
        "df"
      ],
      "execution_count": null,
      "outputs": [
        {
          "output_type": "execute_result",
          "data": {
            "text/html": [
              "<div>\n",
              "<style scoped>\n",
              "    .dataframe tbody tr th:only-of-type {\n",
              "        vertical-align: middle;\n",
              "    }\n",
              "\n",
              "    .dataframe tbody tr th {\n",
              "        vertical-align: top;\n",
              "    }\n",
              "\n",
              "    .dataframe thead th {\n",
              "        text-align: right;\n",
              "    }\n",
              "</style>\n",
              "<table border=\"1\" class=\"dataframe\">\n",
              "  <thead>\n",
              "    <tr style=\"text-align: right;\">\n",
              "      <th></th>\n",
              "      <th>last_accessed_date</th>\n",
              "    </tr>\n",
              "  </thead>\n",
              "  <tbody>\n",
              "    <tr>\n",
              "      <th>0</th>\n",
              "      <td>2020-09-26 19:52:42.375 UTC</td>\n",
              "    </tr>\n",
              "    <tr>\n",
              "      <th>1</th>\n",
              "      <td>2020-09-26 19:52:42.375 UTC</td>\n",
              "    </tr>\n",
              "    <tr>\n",
              "      <th>2</th>\n",
              "      <td>2020-10-22 06:01:48.661 UTC</td>\n",
              "    </tr>\n",
              "    <tr>\n",
              "      <th>3</th>\n",
              "      <td>2020-08-28 07:28:00.871 UTC</td>\n",
              "    </tr>\n",
              "    <tr>\n",
              "      <th>4</th>\n",
              "      <td>2020-10-21 12:17:02.495 UTC</td>\n",
              "    </tr>\n",
              "    <tr>\n",
              "      <th>5</th>\n",
              "      <td>2020-07-11 12:25:35.694 UTC</td>\n",
              "    </tr>\n",
              "    <tr>\n",
              "      <th>6</th>\n",
              "      <td>2020-09-26 19:52:42.375 UTC</td>\n",
              "    </tr>\n",
              "    <tr>\n",
              "      <th>7</th>\n",
              "      <td>2020-09-26 19:52:42.375 UTC</td>\n",
              "    </tr>\n",
              "    <tr>\n",
              "      <th>8</th>\n",
              "      <td>2020-09-26 19:52:42.375 UTC</td>\n",
              "    </tr>\n",
              "    <tr>\n",
              "      <th>9</th>\n",
              "      <td>2020-09-26 19:52:42.375 UTC</td>\n",
              "    </tr>\n",
              "  </tbody>\n",
              "</table>\n",
              "</div>"
            ],
            "text/plain": [
              "            last_accessed_date\n",
              "0  2020-09-26 19:52:42.375 UTC\n",
              "1  2020-09-26 19:52:42.375 UTC\n",
              "2  2020-10-22 06:01:48.661 UTC\n",
              "3  2020-08-28 07:28:00.871 UTC\n",
              "4  2020-10-21 12:17:02.495 UTC\n",
              "5  2020-07-11 12:25:35.694 UTC\n",
              "6  2020-09-26 19:52:42.375 UTC\n",
              "7  2020-09-26 19:52:42.375 UTC\n",
              "8  2020-09-26 19:52:42.375 UTC\n",
              "9  2020-09-26 19:52:42.375 UTC"
            ]
          },
          "metadata": {
            "tags": []
          },
          "execution_count": 45
        }
      ]
    },
    {
      "cell_type": "markdown",
      "metadata": {
        "id": "bB6f2iqQ3_-d"
      },
      "source": [
        "แปลงเป็นวันที่ด้วย method ของ pandas ชื่อ to_datetime()"
      ]
    },
    {
      "cell_type": "code",
      "metadata": {
        "id": "QBK6aEpe5Cx5"
      },
      "source": [
        "df['last_accessed_date'] = pd.to_datetime(df['last_accessed_date'])"
      ],
      "execution_count": null,
      "outputs": []
    },
    {
      "cell_type": "markdown",
      "metadata": {
        "id": "GqNYsvnl7Dh4"
      },
      "source": [
        "เช็ค data type ซักนิดนึง"
      ]
    },
    {
      "cell_type": "code",
      "metadata": {
        "id": "zf9VVGQU7IIs",
        "outputId": "2b67afa8-f018-4541-cbd7-6257f1b71066",
        "colab": {
          "base_uri": "https://localhost:8080/",
          "height": 34
        }
      },
      "source": [
        "df['last_accessed_date'].dtypes"
      ],
      "execution_count": null,
      "outputs": [
        {
          "output_type": "execute_result",
          "data": {
            "text/plain": [
              "datetime64[ns, UTC]"
            ]
          },
          "metadata": {
            "tags": []
          },
          "execution_count": 47
        }
      ]
    },
    {
      "cell_type": "markdown",
      "metadata": {
        "id": "jTjl1qLy552S"
      },
      "source": [
        "กลายเป็น datetime เรียบร้อยครับ👍😉"
      ]
    },
    {
      "cell_type": "markdown",
      "metadata": {
        "id": "EbAe5bv28j5m"
      },
      "source": [
        "#ทีนี้ เราอยากจะแปลงจาก UTC เป็นเวลาไทย ทำยังไง?"
      ]
    },
    {
      "cell_type": "markdown",
      "metadata": {
        "id": "tYMcAfkaB9sy"
      },
      "source": [
        "อันดับแรก เราหาชื่อ timezone ของเราก่อนครับ"
      ]
    },
    {
      "cell_type": "code",
      "metadata": {
        "id": "sO3itNFbCE3N",
        "outputId": "2d7f4afc-99f6-4b4e-df5f-4981c64ef065",
        "colab": {
          "base_uri": "https://localhost:8080/",
          "height": 1000
        }
      },
      "source": [
        "import pytz\n",
        "pytz.all_timezones\n"
      ],
      "execution_count": null,
      "outputs": [
        {
          "output_type": "execute_result",
          "data": {
            "text/plain": [
              "['Africa/Abidjan',\n",
              " 'Africa/Accra',\n",
              " 'Africa/Addis_Ababa',\n",
              " 'Africa/Algiers',\n",
              " 'Africa/Asmara',\n",
              " 'Africa/Asmera',\n",
              " 'Africa/Bamako',\n",
              " 'Africa/Bangui',\n",
              " 'Africa/Banjul',\n",
              " 'Africa/Bissau',\n",
              " 'Africa/Blantyre',\n",
              " 'Africa/Brazzaville',\n",
              " 'Africa/Bujumbura',\n",
              " 'Africa/Cairo',\n",
              " 'Africa/Casablanca',\n",
              " 'Africa/Ceuta',\n",
              " 'Africa/Conakry',\n",
              " 'Africa/Dakar',\n",
              " 'Africa/Dar_es_Salaam',\n",
              " 'Africa/Djibouti',\n",
              " 'Africa/Douala',\n",
              " 'Africa/El_Aaiun',\n",
              " 'Africa/Freetown',\n",
              " 'Africa/Gaborone',\n",
              " 'Africa/Harare',\n",
              " 'Africa/Johannesburg',\n",
              " 'Africa/Juba',\n",
              " 'Africa/Kampala',\n",
              " 'Africa/Khartoum',\n",
              " 'Africa/Kigali',\n",
              " 'Africa/Kinshasa',\n",
              " 'Africa/Lagos',\n",
              " 'Africa/Libreville',\n",
              " 'Africa/Lome',\n",
              " 'Africa/Luanda',\n",
              " 'Africa/Lubumbashi',\n",
              " 'Africa/Lusaka',\n",
              " 'Africa/Malabo',\n",
              " 'Africa/Maputo',\n",
              " 'Africa/Maseru',\n",
              " 'Africa/Mbabane',\n",
              " 'Africa/Mogadishu',\n",
              " 'Africa/Monrovia',\n",
              " 'Africa/Nairobi',\n",
              " 'Africa/Ndjamena',\n",
              " 'Africa/Niamey',\n",
              " 'Africa/Nouakchott',\n",
              " 'Africa/Ouagadougou',\n",
              " 'Africa/Porto-Novo',\n",
              " 'Africa/Sao_Tome',\n",
              " 'Africa/Timbuktu',\n",
              " 'Africa/Tripoli',\n",
              " 'Africa/Tunis',\n",
              " 'Africa/Windhoek',\n",
              " 'America/Adak',\n",
              " 'America/Anchorage',\n",
              " 'America/Anguilla',\n",
              " 'America/Antigua',\n",
              " 'America/Araguaina',\n",
              " 'America/Argentina/Buenos_Aires',\n",
              " 'America/Argentina/Catamarca',\n",
              " 'America/Argentina/ComodRivadavia',\n",
              " 'America/Argentina/Cordoba',\n",
              " 'America/Argentina/Jujuy',\n",
              " 'America/Argentina/La_Rioja',\n",
              " 'America/Argentina/Mendoza',\n",
              " 'America/Argentina/Rio_Gallegos',\n",
              " 'America/Argentina/Salta',\n",
              " 'America/Argentina/San_Juan',\n",
              " 'America/Argentina/San_Luis',\n",
              " 'America/Argentina/Tucuman',\n",
              " 'America/Argentina/Ushuaia',\n",
              " 'America/Aruba',\n",
              " 'America/Asuncion',\n",
              " 'America/Atikokan',\n",
              " 'America/Atka',\n",
              " 'America/Bahia',\n",
              " 'America/Bahia_Banderas',\n",
              " 'America/Barbados',\n",
              " 'America/Belem',\n",
              " 'America/Belize',\n",
              " 'America/Blanc-Sablon',\n",
              " 'America/Boa_Vista',\n",
              " 'America/Bogota',\n",
              " 'America/Boise',\n",
              " 'America/Buenos_Aires',\n",
              " 'America/Cambridge_Bay',\n",
              " 'America/Campo_Grande',\n",
              " 'America/Cancun',\n",
              " 'America/Caracas',\n",
              " 'America/Catamarca',\n",
              " 'America/Cayenne',\n",
              " 'America/Cayman',\n",
              " 'America/Chicago',\n",
              " 'America/Chihuahua',\n",
              " 'America/Coral_Harbour',\n",
              " 'America/Cordoba',\n",
              " 'America/Costa_Rica',\n",
              " 'America/Creston',\n",
              " 'America/Cuiaba',\n",
              " 'America/Curacao',\n",
              " 'America/Danmarkshavn',\n",
              " 'America/Dawson',\n",
              " 'America/Dawson_Creek',\n",
              " 'America/Denver',\n",
              " 'America/Detroit',\n",
              " 'America/Dominica',\n",
              " 'America/Edmonton',\n",
              " 'America/Eirunepe',\n",
              " 'America/El_Salvador',\n",
              " 'America/Ensenada',\n",
              " 'America/Fort_Nelson',\n",
              " 'America/Fort_Wayne',\n",
              " 'America/Fortaleza',\n",
              " 'America/Glace_Bay',\n",
              " 'America/Godthab',\n",
              " 'America/Goose_Bay',\n",
              " 'America/Grand_Turk',\n",
              " 'America/Grenada',\n",
              " 'America/Guadeloupe',\n",
              " 'America/Guatemala',\n",
              " 'America/Guayaquil',\n",
              " 'America/Guyana',\n",
              " 'America/Halifax',\n",
              " 'America/Havana',\n",
              " 'America/Hermosillo',\n",
              " 'America/Indiana/Indianapolis',\n",
              " 'America/Indiana/Knox',\n",
              " 'America/Indiana/Marengo',\n",
              " 'America/Indiana/Petersburg',\n",
              " 'America/Indiana/Tell_City',\n",
              " 'America/Indiana/Vevay',\n",
              " 'America/Indiana/Vincennes',\n",
              " 'America/Indiana/Winamac',\n",
              " 'America/Indianapolis',\n",
              " 'America/Inuvik',\n",
              " 'America/Iqaluit',\n",
              " 'America/Jamaica',\n",
              " 'America/Jujuy',\n",
              " 'America/Juneau',\n",
              " 'America/Kentucky/Louisville',\n",
              " 'America/Kentucky/Monticello',\n",
              " 'America/Knox_IN',\n",
              " 'America/Kralendijk',\n",
              " 'America/La_Paz',\n",
              " 'America/Lima',\n",
              " 'America/Los_Angeles',\n",
              " 'America/Louisville',\n",
              " 'America/Lower_Princes',\n",
              " 'America/Maceio',\n",
              " 'America/Managua',\n",
              " 'America/Manaus',\n",
              " 'America/Marigot',\n",
              " 'America/Martinique',\n",
              " 'America/Matamoros',\n",
              " 'America/Mazatlan',\n",
              " 'America/Mendoza',\n",
              " 'America/Menominee',\n",
              " 'America/Merida',\n",
              " 'America/Metlakatla',\n",
              " 'America/Mexico_City',\n",
              " 'America/Miquelon',\n",
              " 'America/Moncton',\n",
              " 'America/Monterrey',\n",
              " 'America/Montevideo',\n",
              " 'America/Montreal',\n",
              " 'America/Montserrat',\n",
              " 'America/Nassau',\n",
              " 'America/New_York',\n",
              " 'America/Nipigon',\n",
              " 'America/Nome',\n",
              " 'America/Noronha',\n",
              " 'America/North_Dakota/Beulah',\n",
              " 'America/North_Dakota/Center',\n",
              " 'America/North_Dakota/New_Salem',\n",
              " 'America/Ojinaga',\n",
              " 'America/Panama',\n",
              " 'America/Pangnirtung',\n",
              " 'America/Paramaribo',\n",
              " 'America/Phoenix',\n",
              " 'America/Port-au-Prince',\n",
              " 'America/Port_of_Spain',\n",
              " 'America/Porto_Acre',\n",
              " 'America/Porto_Velho',\n",
              " 'America/Puerto_Rico',\n",
              " 'America/Punta_Arenas',\n",
              " 'America/Rainy_River',\n",
              " 'America/Rankin_Inlet',\n",
              " 'America/Recife',\n",
              " 'America/Regina',\n",
              " 'America/Resolute',\n",
              " 'America/Rio_Branco',\n",
              " 'America/Rosario',\n",
              " 'America/Santa_Isabel',\n",
              " 'America/Santarem',\n",
              " 'America/Santiago',\n",
              " 'America/Santo_Domingo',\n",
              " 'America/Sao_Paulo',\n",
              " 'America/Scoresbysund',\n",
              " 'America/Shiprock',\n",
              " 'America/Sitka',\n",
              " 'America/St_Barthelemy',\n",
              " 'America/St_Johns',\n",
              " 'America/St_Kitts',\n",
              " 'America/St_Lucia',\n",
              " 'America/St_Thomas',\n",
              " 'America/St_Vincent',\n",
              " 'America/Swift_Current',\n",
              " 'America/Tegucigalpa',\n",
              " 'America/Thule',\n",
              " 'America/Thunder_Bay',\n",
              " 'America/Tijuana',\n",
              " 'America/Toronto',\n",
              " 'America/Tortola',\n",
              " 'America/Vancouver',\n",
              " 'America/Virgin',\n",
              " 'America/Whitehorse',\n",
              " 'America/Winnipeg',\n",
              " 'America/Yakutat',\n",
              " 'America/Yellowknife',\n",
              " 'Antarctica/Casey',\n",
              " 'Antarctica/Davis',\n",
              " 'Antarctica/DumontDUrville',\n",
              " 'Antarctica/Macquarie',\n",
              " 'Antarctica/Mawson',\n",
              " 'Antarctica/McMurdo',\n",
              " 'Antarctica/Palmer',\n",
              " 'Antarctica/Rothera',\n",
              " 'Antarctica/South_Pole',\n",
              " 'Antarctica/Syowa',\n",
              " 'Antarctica/Troll',\n",
              " 'Antarctica/Vostok',\n",
              " 'Arctic/Longyearbyen',\n",
              " 'Asia/Aden',\n",
              " 'Asia/Almaty',\n",
              " 'Asia/Amman',\n",
              " 'Asia/Anadyr',\n",
              " 'Asia/Aqtau',\n",
              " 'Asia/Aqtobe',\n",
              " 'Asia/Ashgabat',\n",
              " 'Asia/Ashkhabad',\n",
              " 'Asia/Atyrau',\n",
              " 'Asia/Baghdad',\n",
              " 'Asia/Bahrain',\n",
              " 'Asia/Baku',\n",
              " 'Asia/Bangkok',\n",
              " 'Asia/Barnaul',\n",
              " 'Asia/Beirut',\n",
              " 'Asia/Bishkek',\n",
              " 'Asia/Brunei',\n",
              " 'Asia/Calcutta',\n",
              " 'Asia/Chita',\n",
              " 'Asia/Choibalsan',\n",
              " 'Asia/Chongqing',\n",
              " 'Asia/Chungking',\n",
              " 'Asia/Colombo',\n",
              " 'Asia/Dacca',\n",
              " 'Asia/Damascus',\n",
              " 'Asia/Dhaka',\n",
              " 'Asia/Dili',\n",
              " 'Asia/Dubai',\n",
              " 'Asia/Dushanbe',\n",
              " 'Asia/Famagusta',\n",
              " 'Asia/Gaza',\n",
              " 'Asia/Harbin',\n",
              " 'Asia/Hebron',\n",
              " 'Asia/Ho_Chi_Minh',\n",
              " 'Asia/Hong_Kong',\n",
              " 'Asia/Hovd',\n",
              " 'Asia/Irkutsk',\n",
              " 'Asia/Istanbul',\n",
              " 'Asia/Jakarta',\n",
              " 'Asia/Jayapura',\n",
              " 'Asia/Jerusalem',\n",
              " 'Asia/Kabul',\n",
              " 'Asia/Kamchatka',\n",
              " 'Asia/Karachi',\n",
              " 'Asia/Kashgar',\n",
              " 'Asia/Kathmandu',\n",
              " 'Asia/Katmandu',\n",
              " 'Asia/Khandyga',\n",
              " 'Asia/Kolkata',\n",
              " 'Asia/Krasnoyarsk',\n",
              " 'Asia/Kuala_Lumpur',\n",
              " 'Asia/Kuching',\n",
              " 'Asia/Kuwait',\n",
              " 'Asia/Macao',\n",
              " 'Asia/Macau',\n",
              " 'Asia/Magadan',\n",
              " 'Asia/Makassar',\n",
              " 'Asia/Manila',\n",
              " 'Asia/Muscat',\n",
              " 'Asia/Nicosia',\n",
              " 'Asia/Novokuznetsk',\n",
              " 'Asia/Novosibirsk',\n",
              " 'Asia/Omsk',\n",
              " 'Asia/Oral',\n",
              " 'Asia/Phnom_Penh',\n",
              " 'Asia/Pontianak',\n",
              " 'Asia/Pyongyang',\n",
              " 'Asia/Qatar',\n",
              " 'Asia/Qostanay',\n",
              " 'Asia/Qyzylorda',\n",
              " 'Asia/Rangoon',\n",
              " 'Asia/Riyadh',\n",
              " 'Asia/Saigon',\n",
              " 'Asia/Sakhalin',\n",
              " 'Asia/Samarkand',\n",
              " 'Asia/Seoul',\n",
              " 'Asia/Shanghai',\n",
              " 'Asia/Singapore',\n",
              " 'Asia/Srednekolymsk',\n",
              " 'Asia/Taipei',\n",
              " 'Asia/Tashkent',\n",
              " 'Asia/Tbilisi',\n",
              " 'Asia/Tehran',\n",
              " 'Asia/Tel_Aviv',\n",
              " 'Asia/Thimbu',\n",
              " 'Asia/Thimphu',\n",
              " 'Asia/Tokyo',\n",
              " 'Asia/Tomsk',\n",
              " 'Asia/Ujung_Pandang',\n",
              " 'Asia/Ulaanbaatar',\n",
              " 'Asia/Ulan_Bator',\n",
              " 'Asia/Urumqi',\n",
              " 'Asia/Ust-Nera',\n",
              " 'Asia/Vientiane',\n",
              " 'Asia/Vladivostok',\n",
              " 'Asia/Yakutsk',\n",
              " 'Asia/Yangon',\n",
              " 'Asia/Yekaterinburg',\n",
              " 'Asia/Yerevan',\n",
              " 'Atlantic/Azores',\n",
              " 'Atlantic/Bermuda',\n",
              " 'Atlantic/Canary',\n",
              " 'Atlantic/Cape_Verde',\n",
              " 'Atlantic/Faeroe',\n",
              " 'Atlantic/Faroe',\n",
              " 'Atlantic/Jan_Mayen',\n",
              " 'Atlantic/Madeira',\n",
              " 'Atlantic/Reykjavik',\n",
              " 'Atlantic/South_Georgia',\n",
              " 'Atlantic/St_Helena',\n",
              " 'Atlantic/Stanley',\n",
              " 'Australia/ACT',\n",
              " 'Australia/Adelaide',\n",
              " 'Australia/Brisbane',\n",
              " 'Australia/Broken_Hill',\n",
              " 'Australia/Canberra',\n",
              " 'Australia/Currie',\n",
              " 'Australia/Darwin',\n",
              " 'Australia/Eucla',\n",
              " 'Australia/Hobart',\n",
              " 'Australia/LHI',\n",
              " 'Australia/Lindeman',\n",
              " 'Australia/Lord_Howe',\n",
              " 'Australia/Melbourne',\n",
              " 'Australia/NSW',\n",
              " 'Australia/North',\n",
              " 'Australia/Perth',\n",
              " 'Australia/Queensland',\n",
              " 'Australia/South',\n",
              " 'Australia/Sydney',\n",
              " 'Australia/Tasmania',\n",
              " 'Australia/Victoria',\n",
              " 'Australia/West',\n",
              " 'Australia/Yancowinna',\n",
              " 'Brazil/Acre',\n",
              " 'Brazil/DeNoronha',\n",
              " 'Brazil/East',\n",
              " 'Brazil/West',\n",
              " 'CET',\n",
              " 'CST6CDT',\n",
              " 'Canada/Atlantic',\n",
              " 'Canada/Central',\n",
              " 'Canada/Eastern',\n",
              " 'Canada/Mountain',\n",
              " 'Canada/Newfoundland',\n",
              " 'Canada/Pacific',\n",
              " 'Canada/Saskatchewan',\n",
              " 'Canada/Yukon',\n",
              " 'Chile/Continental',\n",
              " 'Chile/EasterIsland',\n",
              " 'Cuba',\n",
              " 'EET',\n",
              " 'EST',\n",
              " 'EST5EDT',\n",
              " 'Egypt',\n",
              " 'Eire',\n",
              " 'Etc/GMT',\n",
              " 'Etc/GMT+0',\n",
              " 'Etc/GMT+1',\n",
              " 'Etc/GMT+10',\n",
              " 'Etc/GMT+11',\n",
              " 'Etc/GMT+12',\n",
              " 'Etc/GMT+2',\n",
              " 'Etc/GMT+3',\n",
              " 'Etc/GMT+4',\n",
              " 'Etc/GMT+5',\n",
              " 'Etc/GMT+6',\n",
              " 'Etc/GMT+7',\n",
              " 'Etc/GMT+8',\n",
              " 'Etc/GMT+9',\n",
              " 'Etc/GMT-0',\n",
              " 'Etc/GMT-1',\n",
              " 'Etc/GMT-10',\n",
              " 'Etc/GMT-11',\n",
              " 'Etc/GMT-12',\n",
              " 'Etc/GMT-13',\n",
              " 'Etc/GMT-14',\n",
              " 'Etc/GMT-2',\n",
              " 'Etc/GMT-3',\n",
              " 'Etc/GMT-4',\n",
              " 'Etc/GMT-5',\n",
              " 'Etc/GMT-6',\n",
              " 'Etc/GMT-7',\n",
              " 'Etc/GMT-8',\n",
              " 'Etc/GMT-9',\n",
              " 'Etc/GMT0',\n",
              " 'Etc/Greenwich',\n",
              " 'Etc/UCT',\n",
              " 'Etc/UTC',\n",
              " 'Etc/Universal',\n",
              " 'Etc/Zulu',\n",
              " 'Europe/Amsterdam',\n",
              " 'Europe/Andorra',\n",
              " 'Europe/Astrakhan',\n",
              " 'Europe/Athens',\n",
              " 'Europe/Belfast',\n",
              " 'Europe/Belgrade',\n",
              " 'Europe/Berlin',\n",
              " 'Europe/Bratislava',\n",
              " 'Europe/Brussels',\n",
              " 'Europe/Bucharest',\n",
              " 'Europe/Budapest',\n",
              " 'Europe/Busingen',\n",
              " 'Europe/Chisinau',\n",
              " 'Europe/Copenhagen',\n",
              " 'Europe/Dublin',\n",
              " 'Europe/Gibraltar',\n",
              " 'Europe/Guernsey',\n",
              " 'Europe/Helsinki',\n",
              " 'Europe/Isle_of_Man',\n",
              " 'Europe/Istanbul',\n",
              " 'Europe/Jersey',\n",
              " 'Europe/Kaliningrad',\n",
              " 'Europe/Kiev',\n",
              " 'Europe/Kirov',\n",
              " 'Europe/Lisbon',\n",
              " 'Europe/Ljubljana',\n",
              " 'Europe/London',\n",
              " 'Europe/Luxembourg',\n",
              " 'Europe/Madrid',\n",
              " 'Europe/Malta',\n",
              " 'Europe/Mariehamn',\n",
              " 'Europe/Minsk',\n",
              " 'Europe/Monaco',\n",
              " 'Europe/Moscow',\n",
              " 'Europe/Nicosia',\n",
              " 'Europe/Oslo',\n",
              " 'Europe/Paris',\n",
              " 'Europe/Podgorica',\n",
              " 'Europe/Prague',\n",
              " 'Europe/Riga',\n",
              " 'Europe/Rome',\n",
              " 'Europe/Samara',\n",
              " 'Europe/San_Marino',\n",
              " 'Europe/Sarajevo',\n",
              " 'Europe/Saratov',\n",
              " 'Europe/Simferopol',\n",
              " 'Europe/Skopje',\n",
              " 'Europe/Sofia',\n",
              " 'Europe/Stockholm',\n",
              " 'Europe/Tallinn',\n",
              " 'Europe/Tirane',\n",
              " 'Europe/Tiraspol',\n",
              " 'Europe/Ulyanovsk',\n",
              " 'Europe/Uzhgorod',\n",
              " 'Europe/Vaduz',\n",
              " 'Europe/Vatican',\n",
              " 'Europe/Vienna',\n",
              " 'Europe/Vilnius',\n",
              " 'Europe/Volgograd',\n",
              " 'Europe/Warsaw',\n",
              " 'Europe/Zagreb',\n",
              " 'Europe/Zaporozhye',\n",
              " 'Europe/Zurich',\n",
              " 'GB',\n",
              " 'GB-Eire',\n",
              " 'GMT',\n",
              " 'GMT+0',\n",
              " 'GMT-0',\n",
              " 'GMT0',\n",
              " 'Greenwich',\n",
              " 'HST',\n",
              " 'Hongkong',\n",
              " 'Iceland',\n",
              " 'Indian/Antananarivo',\n",
              " 'Indian/Chagos',\n",
              " 'Indian/Christmas',\n",
              " 'Indian/Cocos',\n",
              " 'Indian/Comoro',\n",
              " 'Indian/Kerguelen',\n",
              " 'Indian/Mahe',\n",
              " 'Indian/Maldives',\n",
              " 'Indian/Mauritius',\n",
              " 'Indian/Mayotte',\n",
              " 'Indian/Reunion',\n",
              " 'Iran',\n",
              " 'Israel',\n",
              " 'Jamaica',\n",
              " 'Japan',\n",
              " 'Kwajalein',\n",
              " 'Libya',\n",
              " 'MET',\n",
              " 'MST',\n",
              " 'MST7MDT',\n",
              " 'Mexico/BajaNorte',\n",
              " 'Mexico/BajaSur',\n",
              " 'Mexico/General',\n",
              " 'NZ',\n",
              " 'NZ-CHAT',\n",
              " 'Navajo',\n",
              " 'PRC',\n",
              " 'PST8PDT',\n",
              " 'Pacific/Apia',\n",
              " 'Pacific/Auckland',\n",
              " 'Pacific/Bougainville',\n",
              " 'Pacific/Chatham',\n",
              " 'Pacific/Chuuk',\n",
              " 'Pacific/Easter',\n",
              " 'Pacific/Efate',\n",
              " 'Pacific/Enderbury',\n",
              " 'Pacific/Fakaofo',\n",
              " 'Pacific/Fiji',\n",
              " 'Pacific/Funafuti',\n",
              " 'Pacific/Galapagos',\n",
              " 'Pacific/Gambier',\n",
              " 'Pacific/Guadalcanal',\n",
              " 'Pacific/Guam',\n",
              " 'Pacific/Honolulu',\n",
              " 'Pacific/Johnston',\n",
              " 'Pacific/Kiritimati',\n",
              " 'Pacific/Kosrae',\n",
              " 'Pacific/Kwajalein',\n",
              " 'Pacific/Majuro',\n",
              " 'Pacific/Marquesas',\n",
              " 'Pacific/Midway',\n",
              " 'Pacific/Nauru',\n",
              " 'Pacific/Niue',\n",
              " 'Pacific/Norfolk',\n",
              " 'Pacific/Noumea',\n",
              " 'Pacific/Pago_Pago',\n",
              " 'Pacific/Palau',\n",
              " 'Pacific/Pitcairn',\n",
              " 'Pacific/Pohnpei',\n",
              " 'Pacific/Ponape',\n",
              " 'Pacific/Port_Moresby',\n",
              " 'Pacific/Rarotonga',\n",
              " 'Pacific/Saipan',\n",
              " 'Pacific/Samoa',\n",
              " 'Pacific/Tahiti',\n",
              " 'Pacific/Tarawa',\n",
              " 'Pacific/Tongatapu',\n",
              " 'Pacific/Truk',\n",
              " 'Pacific/Wake',\n",
              " 'Pacific/Wallis',\n",
              " 'Pacific/Yap',\n",
              " 'Poland',\n",
              " 'Portugal',\n",
              " 'ROC',\n",
              " 'ROK',\n",
              " 'Singapore',\n",
              " 'Turkey',\n",
              " 'UCT',\n",
              " 'US/Alaska',\n",
              " 'US/Aleutian',\n",
              " 'US/Arizona',\n",
              " 'US/Central',\n",
              " 'US/East-Indiana',\n",
              " 'US/Eastern',\n",
              " 'US/Hawaii',\n",
              " 'US/Indiana-Starke',\n",
              " 'US/Michigan',\n",
              " 'US/Mountain',\n",
              " 'US/Pacific',\n",
              " 'US/Samoa',\n",
              " 'UTC',\n",
              " 'Universal',\n",
              " 'W-SU',\n",
              " 'WET',\n",
              " 'Zulu']"
            ]
          },
          "metadata": {
            "tags": []
          },
          "execution_count": 55
        }
      ]
    },
    {
      "cell_type": "markdown",
      "metadata": {
        "id": "UmC_quoZCMY2"
      },
      "source": [
        "พอได้มาแล้ว เราก็เอาชื่อของ timezone ที่เราต้องการมาใส่ใน method tz_convert() "
      ]
    },
    {
      "cell_type": "markdown",
      "metadata": {
        "id": "6GQoxmU5Csez"
      },
      "source": [
        "*ปล.ถ้าไม่ใช่ index ต้องใส่ .dt ข้างหน้าด้วยครับ*"
      ]
    },
    {
      "cell_type": "code",
      "metadata": {
        "id": "PH10x7eh8kEc"
      },
      "source": [
        "df['last_accessed_date_us'] = df['last_accessed_date'].dt.tz_convert('Asia/Bangkok')"
      ],
      "execution_count": null,
      "outputs": []
    },
    {
      "cell_type": "markdown",
      "metadata": {
        "id": "ameonxHXCvpO"
      },
      "source": [
        "รันเช็คทีนึงครับ"
      ]
    },
    {
      "cell_type": "code",
      "metadata": {
        "id": "aqt6jSIV-rkB",
        "outputId": "e84d6ef5-f42b-4ff3-e923-467546ac940a",
        "colab": {
          "base_uri": "https://localhost:8080/",
          "height": 204
        }
      },
      "source": [
        "df['last_accessed_date_us']"
      ],
      "execution_count": null,
      "outputs": [
        {
          "output_type": "execute_result",
          "data": {
            "text/plain": [
              "0   2020-09-27 02:52:42.375000+07:00\n",
              "1   2020-09-27 02:52:42.375000+07:00\n",
              "2   2020-10-22 13:01:48.661000+07:00\n",
              "3   2020-08-28 14:28:00.871000+07:00\n",
              "4   2020-10-21 19:17:02.495000+07:00\n",
              "5   2020-07-11 19:25:35.694000+07:00\n",
              "6   2020-09-27 02:52:42.375000+07:00\n",
              "7   2020-09-27 02:52:42.375000+07:00\n",
              "8   2020-09-27 02:52:42.375000+07:00\n",
              "9   2020-09-27 02:52:42.375000+07:00\n",
              "Name: last_accessed_date_us, dtype: datetime64[ns, Asia/Bangkok]"
            ]
          },
          "metadata": {
            "tags": []
          },
          "execution_count": 54
        }
      ]
    },
    {
      "cell_type": "markdown",
      "metadata": {
        "id": "TAeQSA-4CzNR"
      },
      "source": [
        "เย่ สำเร็จแล้ว😄😄😄"
      ]
    },
    {
      "cell_type": "markdown",
      "metadata": {
        "id": "1rFEM-MBDUie"
      },
      "source": [
        "#doc ไว้อ่านประกอบนะครับ "
      ]
    },
    {
      "cell_type": "markdown",
      "metadata": {
        "id": "Qp8ExhqhDj8J"
      },
      "source": [
        "วิธีแปลง datetime: https://pandas.pydata.org/pandas-docs/stable/reference/api/pandas.to_datetime.html"
      ]
    },
    {
      "cell_type": "markdown",
      "metadata": {
        "id": "2PjnPc81DfEh"
      },
      "source": [
        "วิธีดูรายชื่อ timezone: https://stackoverflow.com/questions/13866926/is-there-a-list-of-pytz-timezones"
      ]
    },
    {
      "cell_type": "markdown",
      "metadata": {
        "id": "kQAeFhlGEMf5"
      },
      "source": [
        "วิธีแปลง timezone ให้เป็นตามต้องการ: https://pandas.pydata.org/pandas-docs/stable/reference/api/pandas.Series.dt.tz_convert.html"
      ]
    }
  ]
}