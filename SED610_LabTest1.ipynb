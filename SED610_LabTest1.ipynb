{
  "nbformat": 4,
  "nbformat_minor": 0,
  "metadata": {
    "kernelspec": {
      "display_name": "Python 3",
      "language": "python",
      "name": "python3"
    },
    "language_info": {
      "codemirror_mode": {
        "name": "ipython",
        "version": 3
      },
      "file_extension": ".py",
      "mimetype": "text/x-python",
      "name": "python",
      "nbconvert_exporter": "python",
      "pygments_lexer": "ipython3",
      "version": "3.9.5"
    },
    "colab": {
      "name": "SED610_LabTest1.ipynb",
      "provenance": [],
      "include_colab_link": true
    }
  },
  "cells": [
    {
      "cell_type": "markdown",
      "metadata": {
        "id": "view-in-github",
        "colab_type": "text"
      },
      "source": [
        "<a href=\"https://colab.research.google.com/github/Kokoabassplayer/Kokoabassplayer.github.io/blob/master/SED610_LabTest1.ipynb\" target=\"_parent\"><img src=\"https://colab.research.google.com/assets/colab-badge.svg\" alt=\"Open In Colab\"/></a>"
      ]
    },
    {
      "cell_type": "markdown",
      "metadata": {
        "id": "Ct9W06349waq"
      },
      "source": [
        "# <span style=\"color: blue;\">SED610 Lab Test #1</span>\n",
        "\n",
        "### <span style=\"color: blue;\">Test Date : 25 Oct 2020  Duration : 1 hour 30 mins </span>\n",
        "### <span style=\"color: blue;\">Questions : 40  points ( 2 points/question ) </span>\n",
        "### <span style=\"color: blue;\">In each question, please write your python code in the space provided.</span>"
      ]
    },
    {
      "cell_type": "markdown",
      "metadata": {
        "id": "iT45V3pQ9wat"
      },
      "source": [
        "<span style=\"color: blue;\">**Student ID :** (Type below)</span>"
      ]
    },
    {
      "cell_type": "code",
      "metadata": {
        "id": "_JkPyHzy9wat"
      },
      "source": [
        "00"
      ],
      "execution_count": null,
      "outputs": []
    },
    {
      "cell_type": "markdown",
      "metadata": {
        "id": "nlnEMQCp9wau"
      },
      "source": [
        "<span style=\"color: blue;\">**Student Name :** (Type below)</span>"
      ]
    },
    {
      "cell_type": "code",
      "metadata": {
        "id": "caClJ7ug9wau"
      },
      "source": [
        "Nuttapong.B"
      ],
      "execution_count": null,
      "outputs": []
    },
    {
      "cell_type": "markdown",
      "metadata": {
        "id": "3S2zdhR29wav"
      },
      "source": [
        "### <span style=\"color: blue;\">Q1. Import python packages here</span>"
      ]
    },
    {
      "cell_type": "code",
      "metadata": {
        "id": "VOYQEVq69waw"
      },
      "source": [
        "import pandas as pd"
      ],
      "execution_count": null,
      "outputs": []
    },
    {
      "cell_type": "markdown",
      "metadata": {
        "id": "wfog2Aw69wax"
      },
      "source": [
        "### <span style=\"color: blue;\">Q2. Read in the csv file **'WHO-COVID-19-global-data.csv'** as a data frame called covid.</span>"
      ]
    },
    {
      "cell_type": "code",
      "metadata": {
        "colab": {
          "base_uri": "https://localhost:8080/",
          "height": 204
        },
        "id": "tc4-YHA79wax",
        "outputId": "d180886e-7947-42f4-b8a0-2457a10d1cdc"
      },
      "source": [
        "df = pd.read_csv('/content/WHO-COVID-19-global-data.csv')\n"
      ],
      "execution_count": 7,
      "outputs": [
        {
          "output_type": "execute_result",
          "data": {
            "text/html": [
              "<div>\n",
              "<style scoped>\n",
              "    .dataframe tbody tr th:only-of-type {\n",
              "        vertical-align: middle;\n",
              "    }\n",
              "\n",
              "    .dataframe tbody tr th {\n",
              "        vertical-align: top;\n",
              "    }\n",
              "\n",
              "    .dataframe thead th {\n",
              "        text-align: right;\n",
              "    }\n",
              "</style>\n",
              "<table border=\"1\" class=\"dataframe\">\n",
              "  <thead>\n",
              "    <tr style=\"text-align: right;\">\n",
              "      <th></th>\n",
              "      <th>Date_reported</th>\n",
              "      <th>Country_code</th>\n",
              "      <th>Country</th>\n",
              "      <th>WHO_region</th>\n",
              "      <th>New_cases</th>\n",
              "      <th>Cumulative_cases</th>\n",
              "      <th>New_deaths</th>\n",
              "      <th>Cumulative_deaths</th>\n",
              "    </tr>\n",
              "  </thead>\n",
              "  <tbody>\n",
              "    <tr>\n",
              "      <th>0</th>\n",
              "      <td>2020-01-03</td>\n",
              "      <td>AF</td>\n",
              "      <td>Afghanistan</td>\n",
              "      <td>EMRO</td>\n",
              "      <td>0</td>\n",
              "      <td>0</td>\n",
              "      <td>0</td>\n",
              "      <td>0</td>\n",
              "    </tr>\n",
              "    <tr>\n",
              "      <th>1</th>\n",
              "      <td>2020-01-04</td>\n",
              "      <td>AF</td>\n",
              "      <td>Afghanistan</td>\n",
              "      <td>EMRO</td>\n",
              "      <td>0</td>\n",
              "      <td>0</td>\n",
              "      <td>0</td>\n",
              "      <td>0</td>\n",
              "    </tr>\n",
              "    <tr>\n",
              "      <th>2</th>\n",
              "      <td>2020-01-05</td>\n",
              "      <td>AF</td>\n",
              "      <td>Afghanistan</td>\n",
              "      <td>EMRO</td>\n",
              "      <td>0</td>\n",
              "      <td>0</td>\n",
              "      <td>0</td>\n",
              "      <td>0</td>\n",
              "    </tr>\n",
              "    <tr>\n",
              "      <th>3</th>\n",
              "      <td>2020-01-06</td>\n",
              "      <td>AF</td>\n",
              "      <td>Afghanistan</td>\n",
              "      <td>EMRO</td>\n",
              "      <td>0</td>\n",
              "      <td>0</td>\n",
              "      <td>0</td>\n",
              "      <td>0</td>\n",
              "    </tr>\n",
              "    <tr>\n",
              "      <th>4</th>\n",
              "      <td>2020-01-07</td>\n",
              "      <td>AF</td>\n",
              "      <td>Afghanistan</td>\n",
              "      <td>EMRO</td>\n",
              "      <td>0</td>\n",
              "      <td>0</td>\n",
              "      <td>0</td>\n",
              "      <td>0</td>\n",
              "    </tr>\n",
              "  </tbody>\n",
              "</table>\n",
              "</div>"
            ],
            "text/plain": [
              "  Date_reported Country_code  ... New_deaths Cumulative_deaths\n",
              "0    2020-01-03           AF  ...          0                 0\n",
              "1    2020-01-04           AF  ...          0                 0\n",
              "2    2020-01-05           AF  ...          0                 0\n",
              "3    2020-01-06           AF  ...          0                 0\n",
              "4    2020-01-07           AF  ...          0                 0\n",
              "\n",
              "[5 rows x 8 columns]"
            ]
          },
          "metadata": {},
          "execution_count": 7
        }
      ]
    },
    {
      "cell_type": "markdown",
      "metadata": {
        "id": "IKjjPie19way"
      },
      "source": [
        "### <span style=\"color: blue;\">Q3. View the data structure of the covid</span>"
      ]
    },
    {
      "cell_type": "code",
      "metadata": {
        "colab": {
          "base_uri": "https://localhost:8080/"
        },
        "id": "LWgi4-Sj9way",
        "outputId": "1fd1dd15-e3a4-4603-b2c7-c4eae0f4a65c"
      },
      "source": [
        "df.info()"
      ],
      "execution_count": 8,
      "outputs": [
        {
          "output_type": "stream",
          "name": "stdout",
          "text": [
            "<class 'pandas.core.frame.DataFrame'>\n",
            "RangeIndex: 69090 entries, 0 to 69089\n",
            "Data columns (total 8 columns):\n",
            " #   Column             Non-Null Count  Dtype \n",
            "---  ------             --------------  ----- \n",
            " 0   Date_reported      69090 non-null  object\n",
            " 1   Country_code       68796 non-null  object\n",
            " 2   Country            69090 non-null  object\n",
            " 3   WHO_region         69090 non-null  object\n",
            " 4   New_cases          69090 non-null  int64 \n",
            " 5   Cumulative_cases   69090 non-null  int64 \n",
            " 6   New_deaths         69090 non-null  int64 \n",
            " 7   Cumulative_deaths  69090 non-null  int64 \n",
            "dtypes: int64(4), object(4)\n",
            "memory usage: 4.2+ MB\n"
          ]
        }
      ]
    },
    {
      "cell_type": "markdown",
      "metadata": {
        "id": "Zk1_elwD9waz"
      },
      "source": [
        "### <span style=\"color: blue;\">Q4. View the top 10 rows of data in the covid</span>"
      ]
    },
    {
      "cell_type": "code",
      "metadata": {
        "colab": {
          "base_uri": "https://localhost:8080/",
          "height": 359
        },
        "id": "m1_ZnatR9waz",
        "outputId": "77b105ae-afe6-4db0-a894-544ae79dddf0"
      },
      "source": [
        "df.head(10)"
      ],
      "execution_count": 9,
      "outputs": [
        {
          "output_type": "execute_result",
          "data": {
            "text/html": [
              "<div>\n",
              "<style scoped>\n",
              "    .dataframe tbody tr th:only-of-type {\n",
              "        vertical-align: middle;\n",
              "    }\n",
              "\n",
              "    .dataframe tbody tr th {\n",
              "        vertical-align: top;\n",
              "    }\n",
              "\n",
              "    .dataframe thead th {\n",
              "        text-align: right;\n",
              "    }\n",
              "</style>\n",
              "<table border=\"1\" class=\"dataframe\">\n",
              "  <thead>\n",
              "    <tr style=\"text-align: right;\">\n",
              "      <th></th>\n",
              "      <th>Date_reported</th>\n",
              "      <th>Country_code</th>\n",
              "      <th>Country</th>\n",
              "      <th>WHO_region</th>\n",
              "      <th>New_cases</th>\n",
              "      <th>Cumulative_cases</th>\n",
              "      <th>New_deaths</th>\n",
              "      <th>Cumulative_deaths</th>\n",
              "    </tr>\n",
              "  </thead>\n",
              "  <tbody>\n",
              "    <tr>\n",
              "      <th>0</th>\n",
              "      <td>2020-01-03</td>\n",
              "      <td>AF</td>\n",
              "      <td>Afghanistan</td>\n",
              "      <td>EMRO</td>\n",
              "      <td>0</td>\n",
              "      <td>0</td>\n",
              "      <td>0</td>\n",
              "      <td>0</td>\n",
              "    </tr>\n",
              "    <tr>\n",
              "      <th>1</th>\n",
              "      <td>2020-01-04</td>\n",
              "      <td>AF</td>\n",
              "      <td>Afghanistan</td>\n",
              "      <td>EMRO</td>\n",
              "      <td>0</td>\n",
              "      <td>0</td>\n",
              "      <td>0</td>\n",
              "      <td>0</td>\n",
              "    </tr>\n",
              "    <tr>\n",
              "      <th>2</th>\n",
              "      <td>2020-01-05</td>\n",
              "      <td>AF</td>\n",
              "      <td>Afghanistan</td>\n",
              "      <td>EMRO</td>\n",
              "      <td>0</td>\n",
              "      <td>0</td>\n",
              "      <td>0</td>\n",
              "      <td>0</td>\n",
              "    </tr>\n",
              "    <tr>\n",
              "      <th>3</th>\n",
              "      <td>2020-01-06</td>\n",
              "      <td>AF</td>\n",
              "      <td>Afghanistan</td>\n",
              "      <td>EMRO</td>\n",
              "      <td>0</td>\n",
              "      <td>0</td>\n",
              "      <td>0</td>\n",
              "      <td>0</td>\n",
              "    </tr>\n",
              "    <tr>\n",
              "      <th>4</th>\n",
              "      <td>2020-01-07</td>\n",
              "      <td>AF</td>\n",
              "      <td>Afghanistan</td>\n",
              "      <td>EMRO</td>\n",
              "      <td>0</td>\n",
              "      <td>0</td>\n",
              "      <td>0</td>\n",
              "      <td>0</td>\n",
              "    </tr>\n",
              "    <tr>\n",
              "      <th>5</th>\n",
              "      <td>2020-01-08</td>\n",
              "      <td>AF</td>\n",
              "      <td>Afghanistan</td>\n",
              "      <td>EMRO</td>\n",
              "      <td>0</td>\n",
              "      <td>0</td>\n",
              "      <td>0</td>\n",
              "      <td>0</td>\n",
              "    </tr>\n",
              "    <tr>\n",
              "      <th>6</th>\n",
              "      <td>2020-01-09</td>\n",
              "      <td>AF</td>\n",
              "      <td>Afghanistan</td>\n",
              "      <td>EMRO</td>\n",
              "      <td>0</td>\n",
              "      <td>0</td>\n",
              "      <td>0</td>\n",
              "      <td>0</td>\n",
              "    </tr>\n",
              "    <tr>\n",
              "      <th>7</th>\n",
              "      <td>2020-01-10</td>\n",
              "      <td>AF</td>\n",
              "      <td>Afghanistan</td>\n",
              "      <td>EMRO</td>\n",
              "      <td>0</td>\n",
              "      <td>0</td>\n",
              "      <td>0</td>\n",
              "      <td>0</td>\n",
              "    </tr>\n",
              "    <tr>\n",
              "      <th>8</th>\n",
              "      <td>2020-01-11</td>\n",
              "      <td>AF</td>\n",
              "      <td>Afghanistan</td>\n",
              "      <td>EMRO</td>\n",
              "      <td>0</td>\n",
              "      <td>0</td>\n",
              "      <td>0</td>\n",
              "      <td>0</td>\n",
              "    </tr>\n",
              "    <tr>\n",
              "      <th>9</th>\n",
              "      <td>2020-01-12</td>\n",
              "      <td>AF</td>\n",
              "      <td>Afghanistan</td>\n",
              "      <td>EMRO</td>\n",
              "      <td>0</td>\n",
              "      <td>0</td>\n",
              "      <td>0</td>\n",
              "      <td>0</td>\n",
              "    </tr>\n",
              "  </tbody>\n",
              "</table>\n",
              "</div>"
            ],
            "text/plain": [
              "  Date_reported Country_code  ... New_deaths Cumulative_deaths\n",
              "0    2020-01-03           AF  ...          0                 0\n",
              "1    2020-01-04           AF  ...          0                 0\n",
              "2    2020-01-05           AF  ...          0                 0\n",
              "3    2020-01-06           AF  ...          0                 0\n",
              "4    2020-01-07           AF  ...          0                 0\n",
              "5    2020-01-08           AF  ...          0                 0\n",
              "6    2020-01-09           AF  ...          0                 0\n",
              "7    2020-01-10           AF  ...          0                 0\n",
              "8    2020-01-11           AF  ...          0                 0\n",
              "9    2020-01-12           AF  ...          0                 0\n",
              "\n",
              "[10 rows x 8 columns]"
            ]
          },
          "metadata": {},
          "execution_count": 9
        }
      ]
    },
    {
      "cell_type": "markdown",
      "metadata": {
        "id": "mFwIFvc49waz"
      },
      "source": [
        "### <span style=\"color: blue;\">Q5. Create a new column called 'Report_date' that is coverted from the column 'Date_reported' with string type to DateTime object."
      ]
    },
    {
      "cell_type": "code",
      "metadata": {
        "colab": {
          "base_uri": "https://localhost:8080/"
        },
        "id": "DwGkpZ_l9wa0",
        "outputId": "540a5cd2-7b7b-4127-8022-995b1ca6d392"
      },
      "source": [
        "df['Report_date'] = pd.to_datetime(df['Date_reported'])\n",
        "df.info()"
      ],
      "execution_count": 22,
      "outputs": [
        {
          "output_type": "stream",
          "name": "stdout",
          "text": [
            "<class 'pandas.core.frame.DataFrame'>\n",
            "RangeIndex: 69090 entries, 0 to 69089\n",
            "Data columns (total 9 columns):\n",
            " #   Column             Non-Null Count  Dtype         \n",
            "---  ------             --------------  -----         \n",
            " 0   Date_reported      69090 non-null  object        \n",
            " 1   Country_code       68796 non-null  object        \n",
            " 2   Country            69090 non-null  object        \n",
            " 3   WHO_region         69090 non-null  object        \n",
            " 4   New_cases          69090 non-null  int64         \n",
            " 5   Cumulative_cases   69090 non-null  int64         \n",
            " 6   New_deaths         69090 non-null  int64         \n",
            " 7   Cumulative_deaths  69090 non-null  int64         \n",
            " 8   Report_date        69090 non-null  datetime64[ns]\n",
            "dtypes: datetime64[ns](1), int64(4), object(4)\n",
            "memory usage: 4.7+ MB\n"
          ]
        }
      ]
    },
    {
      "cell_type": "code",
      "metadata": {
        "colab": {
          "base_uri": "https://localhost:8080/",
          "height": 204
        },
        "id": "7AWcu9RpAvRB",
        "outputId": "0b0853e6-4dfe-445f-b3cf-513e26bc6222"
      },
      "source": [
        "df.head()"
      ],
      "execution_count": 23,
      "outputs": [
        {
          "output_type": "execute_result",
          "data": {
            "text/html": [
              "<div>\n",
              "<style scoped>\n",
              "    .dataframe tbody tr th:only-of-type {\n",
              "        vertical-align: middle;\n",
              "    }\n",
              "\n",
              "    .dataframe tbody tr th {\n",
              "        vertical-align: top;\n",
              "    }\n",
              "\n",
              "    .dataframe thead th {\n",
              "        text-align: right;\n",
              "    }\n",
              "</style>\n",
              "<table border=\"1\" class=\"dataframe\">\n",
              "  <thead>\n",
              "    <tr style=\"text-align: right;\">\n",
              "      <th></th>\n",
              "      <th>Date_reported</th>\n",
              "      <th>Country_code</th>\n",
              "      <th>Country</th>\n",
              "      <th>WHO_region</th>\n",
              "      <th>New_cases</th>\n",
              "      <th>Cumulative_cases</th>\n",
              "      <th>New_deaths</th>\n",
              "      <th>Cumulative_deaths</th>\n",
              "      <th>Report_date</th>\n",
              "    </tr>\n",
              "  </thead>\n",
              "  <tbody>\n",
              "    <tr>\n",
              "      <th>0</th>\n",
              "      <td>2020-01-03</td>\n",
              "      <td>AF</td>\n",
              "      <td>Afghanistan</td>\n",
              "      <td>EMRO</td>\n",
              "      <td>0</td>\n",
              "      <td>0</td>\n",
              "      <td>0</td>\n",
              "      <td>0</td>\n",
              "      <td>2020-01-03</td>\n",
              "    </tr>\n",
              "    <tr>\n",
              "      <th>1</th>\n",
              "      <td>2020-01-04</td>\n",
              "      <td>AF</td>\n",
              "      <td>Afghanistan</td>\n",
              "      <td>EMRO</td>\n",
              "      <td>0</td>\n",
              "      <td>0</td>\n",
              "      <td>0</td>\n",
              "      <td>0</td>\n",
              "      <td>2020-01-04</td>\n",
              "    </tr>\n",
              "    <tr>\n",
              "      <th>2</th>\n",
              "      <td>2020-01-05</td>\n",
              "      <td>AF</td>\n",
              "      <td>Afghanistan</td>\n",
              "      <td>EMRO</td>\n",
              "      <td>0</td>\n",
              "      <td>0</td>\n",
              "      <td>0</td>\n",
              "      <td>0</td>\n",
              "      <td>2020-01-05</td>\n",
              "    </tr>\n",
              "    <tr>\n",
              "      <th>3</th>\n",
              "      <td>2020-01-06</td>\n",
              "      <td>AF</td>\n",
              "      <td>Afghanistan</td>\n",
              "      <td>EMRO</td>\n",
              "      <td>0</td>\n",
              "      <td>0</td>\n",
              "      <td>0</td>\n",
              "      <td>0</td>\n",
              "      <td>2020-01-06</td>\n",
              "    </tr>\n",
              "    <tr>\n",
              "      <th>4</th>\n",
              "      <td>2020-01-07</td>\n",
              "      <td>AF</td>\n",
              "      <td>Afghanistan</td>\n",
              "      <td>EMRO</td>\n",
              "      <td>0</td>\n",
              "      <td>0</td>\n",
              "      <td>0</td>\n",
              "      <td>0</td>\n",
              "      <td>2020-01-07</td>\n",
              "    </tr>\n",
              "  </tbody>\n",
              "</table>\n",
              "</div>"
            ],
            "text/plain": [
              "  Date_reported Country_code  ... Cumulative_deaths Report_date\n",
              "0    2020-01-03           AF  ...                 0  2020-01-03\n",
              "1    2020-01-04           AF  ...                 0  2020-01-04\n",
              "2    2020-01-05           AF  ...                 0  2020-01-05\n",
              "3    2020-01-06           AF  ...                 0  2020-01-06\n",
              "4    2020-01-07           AF  ...                 0  2020-01-07\n",
              "\n",
              "[5 rows x 9 columns]"
            ]
          },
          "metadata": {},
          "execution_count": 23
        }
      ]
    },
    {
      "cell_type": "markdown",
      "metadata": {
        "id": "oLyLGQqY9wa0"
      },
      "source": [
        "### <span style=\"color: blue;\">Q6. Create a new column called 'Month'. The 'Month' column can be created based off of the DateTime object of Report_date column."
      ]
    },
    {
      "cell_type": "code",
      "metadata": {
        "colab": {
          "base_uri": "https://localhost:8080/",
          "height": 204
        },
        "id": "fGQANbKR9wa0",
        "outputId": "ba1cadd3-cc23-4121-ca9b-3ea3bcc191a0"
      },
      "source": [
        "df['Month'] = pd.DatetimeIndex(df['Report_date']).month\n",
        "df.head()"
      ],
      "execution_count": 39,
      "outputs": [
        {
          "output_type": "execute_result",
          "data": {
            "text/html": [
              "<div>\n",
              "<style scoped>\n",
              "    .dataframe tbody tr th:only-of-type {\n",
              "        vertical-align: middle;\n",
              "    }\n",
              "\n",
              "    .dataframe tbody tr th {\n",
              "        vertical-align: top;\n",
              "    }\n",
              "\n",
              "    .dataframe thead th {\n",
              "        text-align: right;\n",
              "    }\n",
              "</style>\n",
              "<table border=\"1\" class=\"dataframe\">\n",
              "  <thead>\n",
              "    <tr style=\"text-align: right;\">\n",
              "      <th></th>\n",
              "      <th>Date_reported</th>\n",
              "      <th>Country_code</th>\n",
              "      <th>Country</th>\n",
              "      <th>WHO_region</th>\n",
              "      <th>New_cases</th>\n",
              "      <th>Cumulative_cases</th>\n",
              "      <th>New_deaths</th>\n",
              "      <th>Cumulative_deaths</th>\n",
              "      <th>Report_date</th>\n",
              "      <th>Month</th>\n",
              "    </tr>\n",
              "  </thead>\n",
              "  <tbody>\n",
              "    <tr>\n",
              "      <th>0</th>\n",
              "      <td>2020-01-03</td>\n",
              "      <td>AF</td>\n",
              "      <td>Afghanistan</td>\n",
              "      <td>EMRO</td>\n",
              "      <td>0</td>\n",
              "      <td>0</td>\n",
              "      <td>0</td>\n",
              "      <td>0</td>\n",
              "      <td>2020-01-03</td>\n",
              "      <td>1</td>\n",
              "    </tr>\n",
              "    <tr>\n",
              "      <th>1</th>\n",
              "      <td>2020-01-04</td>\n",
              "      <td>AF</td>\n",
              "      <td>Afghanistan</td>\n",
              "      <td>EMRO</td>\n",
              "      <td>0</td>\n",
              "      <td>0</td>\n",
              "      <td>0</td>\n",
              "      <td>0</td>\n",
              "      <td>2020-01-04</td>\n",
              "      <td>1</td>\n",
              "    </tr>\n",
              "    <tr>\n",
              "      <th>2</th>\n",
              "      <td>2020-01-05</td>\n",
              "      <td>AF</td>\n",
              "      <td>Afghanistan</td>\n",
              "      <td>EMRO</td>\n",
              "      <td>0</td>\n",
              "      <td>0</td>\n",
              "      <td>0</td>\n",
              "      <td>0</td>\n",
              "      <td>2020-01-05</td>\n",
              "      <td>1</td>\n",
              "    </tr>\n",
              "    <tr>\n",
              "      <th>3</th>\n",
              "      <td>2020-01-06</td>\n",
              "      <td>AF</td>\n",
              "      <td>Afghanistan</td>\n",
              "      <td>EMRO</td>\n",
              "      <td>0</td>\n",
              "      <td>0</td>\n",
              "      <td>0</td>\n",
              "      <td>0</td>\n",
              "      <td>2020-01-06</td>\n",
              "      <td>1</td>\n",
              "    </tr>\n",
              "    <tr>\n",
              "      <th>4</th>\n",
              "      <td>2020-01-07</td>\n",
              "      <td>AF</td>\n",
              "      <td>Afghanistan</td>\n",
              "      <td>EMRO</td>\n",
              "      <td>0</td>\n",
              "      <td>0</td>\n",
              "      <td>0</td>\n",
              "      <td>0</td>\n",
              "      <td>2020-01-07</td>\n",
              "      <td>1</td>\n",
              "    </tr>\n",
              "  </tbody>\n",
              "</table>\n",
              "</div>"
            ],
            "text/plain": [
              "  Date_reported Country_code      Country  ... Cumulative_deaths  Report_date  Month\n",
              "0    2020-01-03           AF  Afghanistan  ...                 0   2020-01-03      1\n",
              "1    2020-01-04           AF  Afghanistan  ...                 0   2020-01-04      1\n",
              "2    2020-01-05           AF  Afghanistan  ...                 0   2020-01-05      1\n",
              "3    2020-01-06           AF  Afghanistan  ...                 0   2020-01-06      1\n",
              "4    2020-01-07           AF  Afghanistan  ...                 0   2020-01-07      1\n",
              "\n",
              "[5 rows x 10 columns]"
            ]
          },
          "metadata": {},
          "execution_count": 39
        }
      ]
    },
    {
      "cell_type": "markdown",
      "metadata": {
        "id": "Ncrg9gbG9wa0"
      },
      "source": [
        "### <span style=\"color: blue;\">Q7. Show Country code, Country name and Region (remove all duplicate rows)</span>"
      ]
    },
    {
      "cell_type": "code",
      "metadata": {
        "colab": {
          "base_uri": "https://localhost:8080/",
          "height": 419
        },
        "id": "jkWirC0bBssv",
        "outputId": "aa26f10c-903d-4ce8-ffbd-341562616b29"
      },
      "source": [
        "select = ['Country_code', 'Country', 'WHO_region']\n",
        "q7 = df[select]\n",
        "q7 = q7.drop_duplicates(subset=['Country_code'])\n",
        "q7\n"
      ],
      "execution_count": 36,
      "outputs": [
        {
          "output_type": "execute_result",
          "data": {
            "text/html": [
              "<div>\n",
              "<style scoped>\n",
              "    .dataframe tbody tr th:only-of-type {\n",
              "        vertical-align: middle;\n",
              "    }\n",
              "\n",
              "    .dataframe tbody tr th {\n",
              "        vertical-align: top;\n",
              "    }\n",
              "\n",
              "    .dataframe thead th {\n",
              "        text-align: right;\n",
              "    }\n",
              "</style>\n",
              "<table border=\"1\" class=\"dataframe\">\n",
              "  <thead>\n",
              "    <tr style=\"text-align: right;\">\n",
              "      <th></th>\n",
              "      <th>Country_code</th>\n",
              "      <th>Country</th>\n",
              "      <th>WHO_region</th>\n",
              "    </tr>\n",
              "  </thead>\n",
              "  <tbody>\n",
              "    <tr>\n",
              "      <th>0</th>\n",
              "      <td>AF</td>\n",
              "      <td>Afghanistan</td>\n",
              "      <td>EMRO</td>\n",
              "    </tr>\n",
              "    <tr>\n",
              "      <th>294</th>\n",
              "      <td>AL</td>\n",
              "      <td>Albania</td>\n",
              "      <td>EURO</td>\n",
              "    </tr>\n",
              "    <tr>\n",
              "      <th>588</th>\n",
              "      <td>DZ</td>\n",
              "      <td>Algeria</td>\n",
              "      <td>AFRO</td>\n",
              "    </tr>\n",
              "    <tr>\n",
              "      <th>882</th>\n",
              "      <td>AS</td>\n",
              "      <td>American Samoa</td>\n",
              "      <td>WPRO</td>\n",
              "    </tr>\n",
              "    <tr>\n",
              "      <th>1176</th>\n",
              "      <td>AD</td>\n",
              "      <td>Andorra</td>\n",
              "      <td>EURO</td>\n",
              "    </tr>\n",
              "    <tr>\n",
              "      <th>...</th>\n",
              "      <td>...</td>\n",
              "      <td>...</td>\n",
              "      <td>...</td>\n",
              "    </tr>\n",
              "    <tr>\n",
              "      <th>67620</th>\n",
              "      <td>VN</td>\n",
              "      <td>Viet Nam</td>\n",
              "      <td>WPRO</td>\n",
              "    </tr>\n",
              "    <tr>\n",
              "      <th>67914</th>\n",
              "      <td>WF</td>\n",
              "      <td>Wallis and Futuna</td>\n",
              "      <td>WPRO</td>\n",
              "    </tr>\n",
              "    <tr>\n",
              "      <th>68208</th>\n",
              "      <td>YE</td>\n",
              "      <td>Yemen</td>\n",
              "      <td>EMRO</td>\n",
              "    </tr>\n",
              "    <tr>\n",
              "      <th>68502</th>\n",
              "      <td>ZM</td>\n",
              "      <td>Zambia</td>\n",
              "      <td>AFRO</td>\n",
              "    </tr>\n",
              "    <tr>\n",
              "      <th>68796</th>\n",
              "      <td>ZW</td>\n",
              "      <td>Zimbabwe</td>\n",
              "      <td>AFRO</td>\n",
              "    </tr>\n",
              "  </tbody>\n",
              "</table>\n",
              "<p>235 rows × 3 columns</p>\n",
              "</div>"
            ],
            "text/plain": [
              "      Country_code            Country WHO_region\n",
              "0               AF        Afghanistan       EMRO\n",
              "294             AL            Albania       EURO\n",
              "588             DZ            Algeria       AFRO\n",
              "882             AS     American Samoa       WPRO\n",
              "1176            AD            Andorra       EURO\n",
              "...            ...                ...        ...\n",
              "67620           VN           Viet Nam       WPRO\n",
              "67914           WF  Wallis and Futuna       WPRO\n",
              "68208           YE              Yemen       EMRO\n",
              "68502           ZM             Zambia       AFRO\n",
              "68796           ZW           Zimbabwe       AFRO\n",
              "\n",
              "[235 rows x 3 columns]"
            ]
          },
          "metadata": {},
          "execution_count": 36
        }
      ]
    },
    {
      "cell_type": "code",
      "metadata": {
        "id": "R6lbis589wa1",
        "outputId": "c2c83816-2b8d-4796-e8c9-d66c6433d6b3"
      },
      "source": [
        ""
      ],
      "execution_count": null,
      "outputs": [
        {
          "data": {
            "text/html": [
              "<div>\n",
              "<style scoped>\n",
              "    .dataframe tbody tr th:only-of-type {\n",
              "        vertical-align: middle;\n",
              "    }\n",
              "\n",
              "    .dataframe tbody tr th {\n",
              "        vertical-align: top;\n",
              "    }\n",
              "\n",
              "    .dataframe thead th {\n",
              "        text-align: right;\n",
              "    }\n",
              "</style>\n",
              "<table border=\"1\" class=\"dataframe\">\n",
              "  <thead>\n",
              "    <tr style=\"text-align: right;\">\n",
              "      <th></th>\n",
              "      <th>Country_code</th>\n",
              "      <th>Country</th>\n",
              "      <th>WHO_region</th>\n",
              "    </tr>\n",
              "  </thead>\n",
              "  <tbody>\n",
              "    <tr>\n",
              "      <th>0</th>\n",
              "      <td>AF</td>\n",
              "      <td>Afghanistan</td>\n",
              "      <td>EMRO</td>\n",
              "    </tr>\n",
              "    <tr>\n",
              "      <th>294</th>\n",
              "      <td>AL</td>\n",
              "      <td>Albania</td>\n",
              "      <td>EURO</td>\n",
              "    </tr>\n",
              "    <tr>\n",
              "      <th>588</th>\n",
              "      <td>DZ</td>\n",
              "      <td>Algeria</td>\n",
              "      <td>AFRO</td>\n",
              "    </tr>\n",
              "    <tr>\n",
              "      <th>882</th>\n",
              "      <td>AS</td>\n",
              "      <td>American Samoa</td>\n",
              "      <td>WPRO</td>\n",
              "    </tr>\n",
              "    <tr>\n",
              "      <th>1176</th>\n",
              "      <td>AD</td>\n",
              "      <td>Andorra</td>\n",
              "      <td>EURO</td>\n",
              "    </tr>\n",
              "    <tr>\n",
              "      <th>...</th>\n",
              "      <td>...</td>\n",
              "      <td>...</td>\n",
              "      <td>...</td>\n",
              "    </tr>\n",
              "    <tr>\n",
              "      <th>67620</th>\n",
              "      <td>VN</td>\n",
              "      <td>Viet Nam</td>\n",
              "      <td>WPRO</td>\n",
              "    </tr>\n",
              "    <tr>\n",
              "      <th>67914</th>\n",
              "      <td>WF</td>\n",
              "      <td>Wallis and Futuna</td>\n",
              "      <td>WPRO</td>\n",
              "    </tr>\n",
              "    <tr>\n",
              "      <th>68208</th>\n",
              "      <td>YE</td>\n",
              "      <td>Yemen</td>\n",
              "      <td>EMRO</td>\n",
              "    </tr>\n",
              "    <tr>\n",
              "      <th>68502</th>\n",
              "      <td>ZM</td>\n",
              "      <td>Zambia</td>\n",
              "      <td>AFRO</td>\n",
              "    </tr>\n",
              "    <tr>\n",
              "      <th>68796</th>\n",
              "      <td>ZW</td>\n",
              "      <td>Zimbabwe</td>\n",
              "      <td>AFRO</td>\n",
              "    </tr>\n",
              "  </tbody>\n",
              "</table>\n",
              "<p>235 rows × 3 columns</p>\n",
              "</div>"
            ],
            "text/plain": [
              "      Country_code            Country WHO_region\n",
              "0               AF        Afghanistan       EMRO\n",
              "294             AL            Albania       EURO\n",
              "588             DZ            Algeria       AFRO\n",
              "882             AS     American Samoa       WPRO\n",
              "1176            AD            Andorra       EURO\n",
              "...            ...                ...        ...\n",
              "67620           VN           Viet Nam       WPRO\n",
              "67914           WF  Wallis and Futuna       WPRO\n",
              "68208           YE              Yemen       EMRO\n",
              "68502           ZM             Zambia       AFRO\n",
              "68796           ZW           Zimbabwe       AFRO\n",
              "\n",
              "[235 rows x 3 columns]"
            ]
          },
          "execution_count": 117,
          "metadata": {},
          "output_type": "execute_result"
        }
      ]
    },
    {
      "cell_type": "markdown",
      "metadata": {
        "id": "DtCpbjNI9wa1"
      },
      "source": [
        "### <span style=\"color: blue;\">Q8. View the country name (only distinct value)</span>\n",
        "<span style=\"color: red;\">*Show the result in Panda Series, not jus Python array.*</span>"
      ]
    },
    {
      "cell_type": "code",
      "metadata": {
        "colab": {
          "base_uri": "https://localhost:8080/"
        },
        "id": "5sj3fLvQ9wa2",
        "outputId": "d1f8d252-28b2-4c95-f789-f4b15488071b"
      },
      "source": [
        "q8 = pd.Series( \n",
        "              pd.unique(\n",
        "                        q7['Country']\n",
        "                       )\n",
        "              )\n",
        "q8"
      ],
      "execution_count": 49,
      "outputs": [
        {
          "output_type": "execute_result",
          "data": {
            "text/plain": [
              "0            Afghanistan\n",
              "1                Albania\n",
              "2                Algeria\n",
              "3         American Samoa\n",
              "4                Andorra\n",
              "             ...        \n",
              "230             Viet Nam\n",
              "231    Wallis and Futuna\n",
              "232                Yemen\n",
              "233               Zambia\n",
              "234             Zimbabwe\n",
              "Length: 235, dtype: object"
            ]
          },
          "metadata": {},
          "execution_count": 49
        }
      ]
    },
    {
      "cell_type": "markdown",
      "metadata": {
        "id": "1T9NXTZO9wa2"
      },
      "source": [
        "### <span style=\"color: blue;\">Q9. How many the country name (only distinct value) are there?</span>\n",
        "<span style=\"color: red;\">*Show python code, not answer in number.*</span>"
      ]
    },
    {
      "cell_type": "code",
      "metadata": {
        "colab": {
          "base_uri": "https://localhost:8080/"
        },
        "id": "SwUbRrfg9wa2",
        "outputId": "3a30866b-2fb1-4cf7-cd79-153342dd5bbb"
      },
      "source": [
        "q9 = q8.count()\n",
        "q9"
      ],
      "execution_count": 50,
      "outputs": [
        {
          "output_type": "execute_result",
          "data": {
            "text/plain": [
              "235"
            ]
          },
          "metadata": {},
          "execution_count": 50
        }
      ]
    },
    {
      "cell_type": "markdown",
      "metadata": {
        "id": "WhhROKK99wa2"
      },
      "source": [
        "### <span style=\"color: blue;\">Q10. What is the covid data (row) of Thailand on 1 October 2020?</span>"
      ]
    },
    {
      "cell_type": "code",
      "metadata": {
        "colab": {
          "base_uri": "https://localhost:8080/"
        },
        "id": "dw-WJL8U9wa2",
        "outputId": "760406e2-4db0-4433-d748-54da2c3c8ba6"
      },
      "source": [
        "q10 = df.loc[(df['Country'] == 'Thailand')\n",
        "              & (df['Report_date'] == '2020-10-01')\n",
        "            ]\n",
        "q10.shape"
      ],
      "execution_count": 63,
      "outputs": [
        {
          "output_type": "execute_result",
          "data": {
            "text/plain": [
              "(1, 10)"
            ]
          },
          "metadata": {},
          "execution_count": 63
        }
      ]
    },
    {
      "cell_type": "markdown",
      "metadata": {
        "id": "ZhTtdnSQ9wa2"
      },
      "source": [
        "### <span style=\"color: blue;\">Q11. What is the maximum number of the new cases (per day) in Thailand?</span>"
      ]
    },
    {
      "cell_type": "code",
      "metadata": {
        "colab": {
          "base_uri": "https://localhost:8080/"
        },
        "id": "kJhgkd6K9wa2",
        "outputId": "9e6fd3cc-41ec-4462-9163-b91077b4d56f"
      },
      "source": [
        "thailand_df = df.loc[(df['Country'] == 'Thailand')]\n",
        "thailand_df.head()\n",
        "thailand_df.New_cases.max()"
      ],
      "execution_count": 68,
      "outputs": [
        {
          "output_type": "execute_result",
          "data": {
            "text/plain": [
              "252"
            ]
          },
          "metadata": {},
          "execution_count": 68
        }
      ]
    },
    {
      "cell_type": "markdown",
      "metadata": {
        "id": "piY0MqDA9wa2"
      },
      "source": [
        "### <span style=\"color: blue;\">Q12. Count the days that Thailand has no new case (New_case = 0) ?</span>\n",
        "<span style=\"color: red;\">*Show python code and return only a number.*</span>"
      ]
    },
    {
      "cell_type": "code",
      "metadata": {
        "colab": {
          "base_uri": "https://localhost:8080/"
        },
        "id": "LldAsNtv9wa3",
        "outputId": "af9ebab2-c8f0-408d-8ebc-be83bd90e284"
      },
      "source": [
        "th_no_new_case = thailand_df.loc[thailand_df['New_cases'] == 0]\n",
        "th_no_new_case['Date_reported'].count()"
      ],
      "execution_count": 75,
      "outputs": [
        {
          "output_type": "execute_result",
          "data": {
            "text/plain": [
              "70"
            ]
          },
          "metadata": {},
          "execution_count": 75
        }
      ]
    },
    {
      "cell_type": "markdown",
      "metadata": {
        "id": "Ka20FQYI9wa3"
      },
      "source": [
        "### <span style=\"color: blue;\">Q13. What is the reported date that Thailand has the maximum number of the new cases (per day)?</span>\n",
        "<span style=\"color: red;\">*Igore any warning message*</span>"
      ]
    },
    {
      "cell_type": "code",
      "metadata": {
        "colab": {
          "base_uri": "https://localhost:8080/",
          "height": 204
        },
        "id": "GgHRICvA9wa3",
        "outputId": "5f818b06-0a62-449a-80af-f2dd38f400ae"
      },
      "source": [
        "thailand_df.head()"
      ],
      "execution_count": 78,
      "outputs": [
        {
          "output_type": "execute_result",
          "data": {
            "text/html": [
              "<div>\n",
              "<style scoped>\n",
              "    .dataframe tbody tr th:only-of-type {\n",
              "        vertical-align: middle;\n",
              "    }\n",
              "\n",
              "    .dataframe tbody tr th {\n",
              "        vertical-align: top;\n",
              "    }\n",
              "\n",
              "    .dataframe thead th {\n",
              "        text-align: right;\n",
              "    }\n",
              "</style>\n",
              "<table border=\"1\" class=\"dataframe\">\n",
              "  <thead>\n",
              "    <tr style=\"text-align: right;\">\n",
              "      <th></th>\n",
              "      <th>Date_reported</th>\n",
              "      <th>Country_code</th>\n",
              "      <th>Country</th>\n",
              "      <th>WHO_region</th>\n",
              "      <th>New_cases</th>\n",
              "      <th>Cumulative_cases</th>\n",
              "      <th>New_deaths</th>\n",
              "      <th>Cumulative_deaths</th>\n",
              "      <th>Report_date</th>\n",
              "      <th>Month</th>\n",
              "    </tr>\n",
              "  </thead>\n",
              "  <tbody>\n",
              "    <tr>\n",
              "      <th>61152</th>\n",
              "      <td>2020-01-03</td>\n",
              "      <td>TH</td>\n",
              "      <td>Thailand</td>\n",
              "      <td>SEARO</td>\n",
              "      <td>0</td>\n",
              "      <td>0</td>\n",
              "      <td>0</td>\n",
              "      <td>0</td>\n",
              "      <td>2020-01-03</td>\n",
              "      <td>1</td>\n",
              "    </tr>\n",
              "    <tr>\n",
              "      <th>61153</th>\n",
              "      <td>2020-01-04</td>\n",
              "      <td>TH</td>\n",
              "      <td>Thailand</td>\n",
              "      <td>SEARO</td>\n",
              "      <td>0</td>\n",
              "      <td>0</td>\n",
              "      <td>0</td>\n",
              "      <td>0</td>\n",
              "      <td>2020-01-04</td>\n",
              "      <td>1</td>\n",
              "    </tr>\n",
              "    <tr>\n",
              "      <th>61154</th>\n",
              "      <td>2020-01-05</td>\n",
              "      <td>TH</td>\n",
              "      <td>Thailand</td>\n",
              "      <td>SEARO</td>\n",
              "      <td>0</td>\n",
              "      <td>0</td>\n",
              "      <td>0</td>\n",
              "      <td>0</td>\n",
              "      <td>2020-01-05</td>\n",
              "      <td>1</td>\n",
              "    </tr>\n",
              "    <tr>\n",
              "      <th>61155</th>\n",
              "      <td>2020-01-06</td>\n",
              "      <td>TH</td>\n",
              "      <td>Thailand</td>\n",
              "      <td>SEARO</td>\n",
              "      <td>0</td>\n",
              "      <td>0</td>\n",
              "      <td>0</td>\n",
              "      <td>0</td>\n",
              "      <td>2020-01-06</td>\n",
              "      <td>1</td>\n",
              "    </tr>\n",
              "    <tr>\n",
              "      <th>61156</th>\n",
              "      <td>2020-01-07</td>\n",
              "      <td>TH</td>\n",
              "      <td>Thailand</td>\n",
              "      <td>SEARO</td>\n",
              "      <td>0</td>\n",
              "      <td>0</td>\n",
              "      <td>0</td>\n",
              "      <td>0</td>\n",
              "      <td>2020-01-07</td>\n",
              "      <td>1</td>\n",
              "    </tr>\n",
              "  </tbody>\n",
              "</table>\n",
              "</div>"
            ],
            "text/plain": [
              "      Date_reported Country_code  ... Report_date Month\n",
              "61152    2020-01-03           TH  ...  2020-01-03     1\n",
              "61153    2020-01-04           TH  ...  2020-01-04     1\n",
              "61154    2020-01-05           TH  ...  2020-01-05     1\n",
              "61155    2020-01-06           TH  ...  2020-01-06     1\n",
              "61156    2020-01-07           TH  ...  2020-01-07     1\n",
              "\n",
              "[5 rows x 10 columns]"
            ]
          },
          "metadata": {},
          "execution_count": 78
        }
      ]
    },
    {
      "cell_type": "code",
      "metadata": {
        "colab": {
          "base_uri": "https://localhost:8080/"
        },
        "id": "ATBfA3nZJojM",
        "outputId": "f8a27ec8-bdb1-4898-d87d-10c7a17c8bb0"
      },
      "source": [
        "thailand_df['New_cases'].max()"
      ],
      "execution_count": 79,
      "outputs": [
        {
          "output_type": "execute_result",
          "data": {
            "text/plain": [
              "252"
            ]
          },
          "metadata": {},
          "execution_count": 79
        }
      ]
    },
    {
      "cell_type": "code",
      "metadata": {
        "colab": {
          "base_uri": "https://localhost:8080/"
        },
        "id": "c5jBV1X8JPL4",
        "outputId": "f7d3b2f7-388f-48aa-866c-050c9376bc0e"
      },
      "source": [
        "q13 = thailand_df.loc[thailand_df['New_cases'] == thailand_df['New_cases'].max()]\n",
        "q13.Report_date"
      ],
      "execution_count": 84,
      "outputs": [
        {
          "output_type": "execute_result",
          "data": {
            "text/plain": [
              "61238   2020-03-29\n",
              "Name: Report_date, dtype: datetime64[ns]"
            ]
          },
          "metadata": {},
          "execution_count": 84
        }
      ]
    },
    {
      "cell_type": "markdown",
      "metadata": {
        "id": "1z1g8Fzg9wa3"
      },
      "source": [
        "### <span style=\"color: blue;\">Q14. What is the average new deaths per day in Thailand?</span>"
      ]
    },
    {
      "cell_type": "code",
      "metadata": {
        "colab": {
          "base_uri": "https://localhost:8080/"
        },
        "id": "D9aQQ-3I9wa3",
        "outputId": "28dc4487-1d01-4594-f221-56baf1ce4325"
      },
      "source": [
        "thailand_df.New_deaths.mean()"
      ],
      "execution_count": 85,
      "outputs": [
        {
          "output_type": "execute_result",
          "data": {
            "text/plain": [
              "0.20068027210884354"
            ]
          },
          "metadata": {},
          "execution_count": 85
        }
      ]
    },
    {
      "cell_type": "markdown",
      "metadata": {
        "id": "jiFI55Zp9wa3"
      },
      "source": [
        "### <span style=\"color: blue;\">Q15. What are the total number of new cases and  the total number of new deaths in Thailand?</span>"
      ]
    },
    {
      "cell_type": "code",
      "metadata": {
        "colab": {
          "base_uri": "https://localhost:8080/"
        },
        "id": "MOs5OHKHKQX0",
        "outputId": "f5b8d33b-bae9-486d-f924-f6615a245774"
      },
      "source": [
        "thailand_df.New_cases.sum()"
      ],
      "execution_count": 87,
      "outputs": [
        {
          "output_type": "execute_result",
          "data": {
            "text/plain": [
              "3719"
            ]
          },
          "metadata": {},
          "execution_count": 87
        }
      ]
    },
    {
      "cell_type": "code",
      "metadata": {
        "colab": {
          "base_uri": "https://localhost:8080/"
        },
        "id": "qu6Gx4Ev9wa3",
        "outputId": "50fc7d32-0fd6-46d1-b8e3-f134eb0c36da"
      },
      "source": [
        "thailand_df.New_deaths.sum()"
      ],
      "execution_count": 86,
      "outputs": [
        {
          "output_type": "execute_result",
          "data": {
            "text/plain": [
              "59"
            ]
          },
          "metadata": {},
          "execution_count": 86
        }
      ]
    },
    {
      "cell_type": "markdown",
      "metadata": {
        "id": "LWIYLG3a9wa3"
      },
      "source": [
        "### <span style=\"color: blue;\">Q16. What are the top 10 affected countries?</span>\n",
        "#### <span style=\"color: red;\">Show the result in bar chart.</span>\n",
        "#### <span style=\"color: red;\">Set the title to 'Top 10 Covid affected by counrties'</span>"
      ]
    },
    {
      "cell_type": "code",
      "metadata": {
        "colab": {
          "base_uri": "https://localhost:8080/",
          "height": 405
        },
        "id": "aB8f6eOmKZQx",
        "outputId": "dd86990e-e3a1-4eee-f650-712963bd7e3d"
      },
      "source": [
        "q16df = df.groupby('Country')[['New_cases']].sum()\n",
        "q16df = q16df.sort_values(by=['New_cases']\n",
        "                          , ascending=False).head(10)\n",
        "import matplotlib.pyplot as plt\n",
        "q16df.plot(kind='bar')\n",
        "plt.show()"
      ],
      "execution_count": 101,
      "outputs": [
        {
          "output_type": "display_data",
          "data": {
            "image/png": "[encoded data removed]",
            "text/plain": [
              "<Figure size 432x288 with 1 Axes>"
            ]
          },
          "metadata": {
            "needs_background": "light"
          }
        }
      ]
    },
    {
      "cell_type": "code",
      "metadata": {
        "id": "v0K4FGMT9wa4",
        "outputId": "fb01bec3-1da2-4c6d-bd3f-cbfc0e2f4321"
      },
      "source": [
        ""
      ],
      "execution_count": null,
      "outputs": [
        {
          "data": {
            "text/plain": [
              "Text(0.5, 1.0, 'Top 10 Covid affected by countries')"
            ]
          },
          "execution_count": 64,
          "metadata": {},
          "output_type": "execute_result"
        },
        {
          "data": {
            "image/png": "[encoded data removed]",
            "text/plain": [
              "<Figure size 432x288 with 1 Axes>"
            ]
          },
          "metadata": {
            "needs_background": "light"
          },
          "output_type": "display_data"
        }
      ]
    },
    {
      "cell_type": "markdown",
      "metadata": {
        "id": "wRLBld8_9wa4"
      },
      "source": [
        "### <span style=\"color: blue;\">Q17. Show the cumulative new cases in Thailand by month?</span>\n",
        "#### <span style=\"color: red;\">Show the result in line chart.</span>"
      ]
    },
    {
      "cell_type": "code",
      "metadata": {
        "id": "-bG2uHLX9wa4",
        "colab": {
          "base_uri": "https://localhost:8080/",
          "height": 204
        },
        "outputId": "351268bd-5687-4c2e-cdd1-93c02d7e7cf9"
      },
      "source": [
        "thailand_df.head()"
      ],
      "execution_count": 112,
      "outputs": [
        {
          "output_type": "execute_result",
          "data": {
            "text/html": [
              "<div>\n",
              "<style scoped>\n",
              "    .dataframe tbody tr th:only-of-type {\n",
              "        vertical-align: middle;\n",
              "    }\n",
              "\n",
              "    .dataframe tbody tr th {\n",
              "        vertical-align: top;\n",
              "    }\n",
              "\n",
              "    .dataframe thead th {\n",
              "        text-align: right;\n",
              "    }\n",
              "</style>\n",
              "<table border=\"1\" class=\"dataframe\">\n",
              "  <thead>\n",
              "    <tr style=\"text-align: right;\">\n",
              "      <th></th>\n",
              "      <th>Date_reported</th>\n",
              "      <th>Country_code</th>\n",
              "      <th>Country</th>\n",
              "      <th>WHO_region</th>\n",
              "      <th>New_cases</th>\n",
              "      <th>Cumulative_cases</th>\n",
              "      <th>New_deaths</th>\n",
              "      <th>Cumulative_deaths</th>\n",
              "      <th>Report_date</th>\n",
              "      <th>Month</th>\n",
              "      <th>month_year</th>\n",
              "    </tr>\n",
              "  </thead>\n",
              "  <tbody>\n",
              "    <tr>\n",
              "      <th>61152</th>\n",
              "      <td>2020-01-03</td>\n",
              "      <td>TH</td>\n",
              "      <td>Thailand</td>\n",
              "      <td>SEARO</td>\n",
              "      <td>0</td>\n",
              "      <td>0</td>\n",
              "      <td>0</td>\n",
              "      <td>0</td>\n",
              "      <td>2020-01-03</td>\n",
              "      <td>1</td>\n",
              "      <td>2020-01</td>\n",
              "    </tr>\n",
              "    <tr>\n",
              "      <th>61153</th>\n",
              "      <td>2020-01-04</td>\n",
              "      <td>TH</td>\n",
              "      <td>Thailand</td>\n",
              "      <td>SEARO</td>\n",
              "      <td>0</td>\n",
              "      <td>0</td>\n",
              "      <td>0</td>\n",
              "      <td>0</td>\n",
              "      <td>2020-01-04</td>\n",
              "      <td>1</td>\n",
              "      <td>2020-01</td>\n",
              "    </tr>\n",
              "    <tr>\n",
              "      <th>61154</th>\n",
              "      <td>2020-01-05</td>\n",
              "      <td>TH</td>\n",
              "      <td>Thailand</td>\n",
              "      <td>SEARO</td>\n",
              "      <td>0</td>\n",
              "      <td>0</td>\n",
              "      <td>0</td>\n",
              "      <td>0</td>\n",
              "      <td>2020-01-05</td>\n",
              "      <td>1</td>\n",
              "      <td>2020-01</td>\n",
              "    </tr>\n",
              "    <tr>\n",
              "      <th>61155</th>\n",
              "      <td>2020-01-06</td>\n",
              "      <td>TH</td>\n",
              "      <td>Thailand</td>\n",
              "      <td>SEARO</td>\n",
              "      <td>0</td>\n",
              "      <td>0</td>\n",
              "      <td>0</td>\n",
              "      <td>0</td>\n",
              "      <td>2020-01-06</td>\n",
              "      <td>1</td>\n",
              "      <td>2020-01</td>\n",
              "    </tr>\n",
              "    <tr>\n",
              "      <th>61156</th>\n",
              "      <td>2020-01-07</td>\n",
              "      <td>TH</td>\n",
              "      <td>Thailand</td>\n",
              "      <td>SEARO</td>\n",
              "      <td>0</td>\n",
              "      <td>0</td>\n",
              "      <td>0</td>\n",
              "      <td>0</td>\n",
              "      <td>2020-01-07</td>\n",
              "      <td>1</td>\n",
              "      <td>2020-01</td>\n",
              "    </tr>\n",
              "  </tbody>\n",
              "</table>\n",
              "</div>"
            ],
            "text/plain": [
              "      Date_reported Country_code   Country  ... Report_date  Month  month_year\n",
              "61152    2020-01-03           TH  Thailand  ...  2020-01-03      1     2020-01\n",
              "61153    2020-01-04           TH  Thailand  ...  2020-01-04      1     2020-01\n",
              "61154    2020-01-05           TH  Thailand  ...  2020-01-05      1     2020-01\n",
              "61155    2020-01-06           TH  Thailand  ...  2020-01-06      1     2020-01\n",
              "61156    2020-01-07           TH  Thailand  ...  2020-01-07      1     2020-01\n",
              "\n",
              "[5 rows x 11 columns]"
            ]
          },
          "metadata": {},
          "execution_count": 112
        }
      ]
    },
    {
      "cell_type": "code",
      "metadata": {
        "colab": {
          "base_uri": "https://localhost:8080/",
          "height": 306
        },
        "id": "jDqUFvRRP_34",
        "outputId": "078d4afe-e5fe-493b-acb1-6bc8937bedaa"
      },
      "source": [
        "thailand_df['month_year'] = thailand_df['Report_date'].dt.to_period('M')\n",
        "thailand_df.head()"
      ],
      "execution_count": 113,
      "outputs": [
        {
          "output_type": "stream",
          "name": "stderr",
          "text": [
            "/usr/local/lib/python3.7/dist-packages/ipykernel_launcher.py:1: SettingWithCopyWarning: \n",
            "A value is trying to be set on a copy of a slice from a DataFrame.\n",
            "Try using .loc[row_indexer,col_indexer] = value instead\n",
            "\n",
            "See the caveats in the documentation: https://pandas.pydata.org/pandas-docs/stable/user_guide/indexing.html#returning-a-view-versus-a-copy\n",
            "  \"\"\"Entry point for launching an IPython kernel.\n"
          ]
        },
        {
          "output_type": "execute_result",
          "data": {
            "text/html": [
              "<div>\n",
              "<style scoped>\n",
              "    .dataframe tbody tr th:only-of-type {\n",
              "        vertical-align: middle;\n",
              "    }\n",
              "\n",
              "    .dataframe tbody tr th {\n",
              "        vertical-align: top;\n",
              "    }\n",
              "\n",
              "    .dataframe thead th {\n",
              "        text-align: right;\n",
              "    }\n",
              "</style>\n",
              "<table border=\"1\" class=\"dataframe\">\n",
              "  <thead>\n",
              "    <tr style=\"text-align: right;\">\n",
              "      <th></th>\n",
              "      <th>Date_reported</th>\n",
              "      <th>Country_code</th>\n",
              "      <th>Country</th>\n",
              "      <th>WHO_region</th>\n",
              "      <th>New_cases</th>\n",
              "      <th>Cumulative_cases</th>\n",
              "      <th>New_deaths</th>\n",
              "      <th>Cumulative_deaths</th>\n",
              "      <th>Report_date</th>\n",
              "      <th>Month</th>\n",
              "      <th>month_year</th>\n",
              "    </tr>\n",
              "  </thead>\n",
              "  <tbody>\n",
              "    <tr>\n",
              "      <th>61152</th>\n",
              "      <td>2020-01-03</td>\n",
              "      <td>TH</td>\n",
              "      <td>Thailand</td>\n",
              "      <td>SEARO</td>\n",
              "      <td>0</td>\n",
              "      <td>0</td>\n",
              "      <td>0</td>\n",
              "      <td>0</td>\n",
              "      <td>2020-01-03</td>\n",
              "      <td>1</td>\n",
              "      <td>2020-01</td>\n",
              "    </tr>\n",
              "    <tr>\n",
              "      <th>61153</th>\n",
              "      <td>2020-01-04</td>\n",
              "      <td>TH</td>\n",
              "      <td>Thailand</td>\n",
              "      <td>SEARO</td>\n",
              "      <td>0</td>\n",
              "      <td>0</td>\n",
              "      <td>0</td>\n",
              "      <td>0</td>\n",
              "      <td>2020-01-04</td>\n",
              "      <td>1</td>\n",
              "      <td>2020-01</td>\n",
              "    </tr>\n",
              "    <tr>\n",
              "      <th>61154</th>\n",
              "      <td>2020-01-05</td>\n",
              "      <td>TH</td>\n",
              "      <td>Thailand</td>\n",
              "      <td>SEARO</td>\n",
              "      <td>0</td>\n",
              "      <td>0</td>\n",
              "      <td>0</td>\n",
              "      <td>0</td>\n",
              "      <td>2020-01-05</td>\n",
              "      <td>1</td>\n",
              "      <td>2020-01</td>\n",
              "    </tr>\n",
              "    <tr>\n",
              "      <th>61155</th>\n",
              "      <td>2020-01-06</td>\n",
              "      <td>TH</td>\n",
              "      <td>Thailand</td>\n",
              "      <td>SEARO</td>\n",
              "      <td>0</td>\n",
              "      <td>0</td>\n",
              "      <td>0</td>\n",
              "      <td>0</td>\n",
              "      <td>2020-01-06</td>\n",
              "      <td>1</td>\n",
              "      <td>2020-01</td>\n",
              "    </tr>\n",
              "    <tr>\n",
              "      <th>61156</th>\n",
              "      <td>2020-01-07</td>\n",
              "      <td>TH</td>\n",
              "      <td>Thailand</td>\n",
              "      <td>SEARO</td>\n",
              "      <td>0</td>\n",
              "      <td>0</td>\n",
              "      <td>0</td>\n",
              "      <td>0</td>\n",
              "      <td>2020-01-07</td>\n",
              "      <td>1</td>\n",
              "      <td>2020-01</td>\n",
              "    </tr>\n",
              "  </tbody>\n",
              "</table>\n",
              "</div>"
            ],
            "text/plain": [
              "      Date_reported Country_code   Country  ... Report_date  Month  month_year\n",
              "61152    2020-01-03           TH  Thailand  ...  2020-01-03      1     2020-01\n",
              "61153    2020-01-04           TH  Thailand  ...  2020-01-04      1     2020-01\n",
              "61154    2020-01-05           TH  Thailand  ...  2020-01-05      1     2020-01\n",
              "61155    2020-01-06           TH  Thailand  ...  2020-01-06      1     2020-01\n",
              "61156    2020-01-07           TH  Thailand  ...  2020-01-07      1     2020-01\n",
              "\n",
              "[5 rows x 11 columns]"
            ]
          },
          "metadata": {},
          "execution_count": 113
        }
      ]
    },
    {
      "cell_type": "code",
      "metadata": {
        "id": "EdrH07EQOFap"
      },
      "source": [
        "q17 = thailand_df.groupby('month_year')[['New_cases']].sum()"
      ],
      "execution_count": 122,
      "outputs": []
    },
    {
      "cell_type": "code",
      "metadata": {
        "colab": {
          "base_uri": "https://localhost:8080/",
          "height": 309
        },
        "id": "9pzLy-4eQiGi",
        "outputId": "00f96cd7-45b7-4037-c9de-699fa00d796f"
      },
      "source": [
        "q17 = q17.cumsum()\n",
        "q17.plot()\n"
      ],
      "execution_count": 125,
      "outputs": [
        {
          "output_type": "execute_result",
          "data": {
            "text/plain": [
              "<matplotlib.axes._subplots.AxesSubplot at 0x7fb6ba764e10>"
            ]
          },
          "metadata": {},
          "execution_count": 125
        },
        {
          "output_type": "display_data",
          "data": {
            "image/png": "[encoded data removed]",
            "text/plain": [
              "<Figure size 432x288 with 1 Axes>"
            ]
          },
          "metadata": {
            "needs_background": "light"
          }
        }
      ]
    },
    {
      "cell_type": "markdown",
      "metadata": {
        "id": "DLWKF6Hj9wa4"
      },
      "source": [
        "### <span style=\"color: blue;\">Q18. Show the total new cases by region in pie chart</span>"
      ]
    },
    {
      "cell_type": "code",
      "metadata": {
        "id": "aZVSupTJ9wa5",
        "outputId": "c254dc3a-6a2a-47b2-9a82-e9244925b50c"
      },
      "source": [
        ""
      ],
      "execution_count": null,
      "outputs": [
        {
          "data": {
            "text/plain": [
              "<matplotlib.axes._subplots.AxesSubplot at 0x7fc1678131d0>"
            ]
          },
          "execution_count": 165,
          "metadata": {},
          "output_type": "execute_result"
        },
        {
          "data": {
            "image/png": "[encoded data removed]",
            "text/plain": [
              "<Figure size 432x288 with 1 Axes>"
            ]
          },
          "metadata": {},
          "output_type": "display_data"
        }
      ]
    },
    {
      "cell_type": "code",
      "metadata": {
        "colab": {
          "base_uri": "https://localhost:8080/",
          "height": 282
        },
        "id": "eytrX0meRb9S",
        "outputId": "336de8be-10f8-4990-ba7c-f9515eb77dee"
      },
      "source": [
        "q18 = df.groupby('WHO_region')[['New_cases']].sum()\n",
        "q18.plot(kind='pie', subplots=True, legend=False)"
      ],
      "execution_count": 133,
      "outputs": [
        {
          "output_type": "execute_result",
          "data": {
            "text/plain": [
              "array([<matplotlib.axes._subplots.AxesSubplot object at 0x7fb6ba879950>],\n",
              "      dtype=object)"
            ]
          },
          "metadata": {},
          "execution_count": 133
        },
        {
          "output_type": "display_data",
          "data": {
            "image/png": "[encoded data removed]",
            "text/plain": [
              "<Figure size 432x288 with 1 Axes>"
            ]
          },
          "metadata": {}
        }
      ]
    },
    {
      "cell_type": "markdown",
      "metadata": {
        "id": "0SIHUNds9wa5"
      },
      "source": [
        "### <span style=\"color: blue;\">Q.19 Show the New cases by month in Thailand</span>\n",
        "#### <span style=\"color: red;\">Show the result in box plot.</span>"
      ]
    },
    {
      "cell_type": "code",
      "metadata": {
        "id": "QibDV0RG9wa5",
        "outputId": "30d68c27-9b7f-4e16-8408-78f4222a05ac"
      },
      "source": [
        ""
      ],
      "execution_count": null,
      "outputs": [
        {
          "data": {
            "text/plain": [
              "<matplotlib.axes._subplots.AxesSubplot at 0x7fc167ccb690>"
            ]
          },
          "execution_count": 167,
          "metadata": {},
          "output_type": "execute_result"
        },
        {
          "data": {
            "image/png": "[encoded data removed]",
            "text/plain": [
              "<Figure size 432x288 with 1 Axes>"
            ]
          },
          "metadata": {
            "needs_background": "light"
          },
          "output_type": "display_data"
        }
      ]
    },
    {
      "cell_type": "code",
      "metadata": {
        "colab": {
          "base_uri": "https://localhost:8080/",
          "height": 419
        },
        "id": "tbA2ru75R3JI",
        "outputId": "84c6b9eb-0522-4205-8331-5a228ba12680"
      },
      "source": [
        "column = ['Month', 'New_cases']\n",
        "q19df = thailand_df[column]\n",
        "q19df"
      ],
      "execution_count": 145,
      "outputs": [
        {
          "output_type": "execute_result",
          "data": {
            "text/html": [
              "<div>\n",
              "<style scoped>\n",
              "    .dataframe tbody tr th:only-of-type {\n",
              "        vertical-align: middle;\n",
              "    }\n",
              "\n",
              "    .dataframe tbody tr th {\n",
              "        vertical-align: top;\n",
              "    }\n",
              "\n",
              "    .dataframe thead th {\n",
              "        text-align: right;\n",
              "    }\n",
              "</style>\n",
              "<table border=\"1\" class=\"dataframe\">\n",
              "  <thead>\n",
              "    <tr style=\"text-align: right;\">\n",
              "      <th></th>\n",
              "      <th>Month</th>\n",
              "      <th>New_cases</th>\n",
              "    </tr>\n",
              "  </thead>\n",
              "  <tbody>\n",
              "    <tr>\n",
              "      <th>61152</th>\n",
              "      <td>1</td>\n",
              "      <td>0</td>\n",
              "    </tr>\n",
              "    <tr>\n",
              "      <th>61153</th>\n",
              "      <td>1</td>\n",
              "      <td>0</td>\n",
              "    </tr>\n",
              "    <tr>\n",
              "      <th>61154</th>\n",
              "      <td>1</td>\n",
              "      <td>0</td>\n",
              "    </tr>\n",
              "    <tr>\n",
              "      <th>61155</th>\n",
              "      <td>1</td>\n",
              "      <td>0</td>\n",
              "    </tr>\n",
              "    <tr>\n",
              "      <th>61156</th>\n",
              "      <td>1</td>\n",
              "      <td>0</td>\n",
              "    </tr>\n",
              "    <tr>\n",
              "      <th>...</th>\n",
              "      <td>...</td>\n",
              "      <td>...</td>\n",
              "    </tr>\n",
              "    <tr>\n",
              "      <th>61441</th>\n",
              "      <td>10</td>\n",
              "      <td>7</td>\n",
              "    </tr>\n",
              "    <tr>\n",
              "      <th>61442</th>\n",
              "      <td>10</td>\n",
              "      <td>5</td>\n",
              "    </tr>\n",
              "    <tr>\n",
              "      <th>61443</th>\n",
              "      <td>10</td>\n",
              "      <td>9</td>\n",
              "    </tr>\n",
              "    <tr>\n",
              "      <th>61444</th>\n",
              "      <td>10</td>\n",
              "      <td>9</td>\n",
              "    </tr>\n",
              "    <tr>\n",
              "      <th>61445</th>\n",
              "      <td>10</td>\n",
              "      <td>10</td>\n",
              "    </tr>\n",
              "  </tbody>\n",
              "</table>\n",
              "<p>294 rows × 2 columns</p>\n",
              "</div>"
            ],
            "text/plain": [
              "       Month  New_cases\n",
              "61152      1          0\n",
              "61153      1          0\n",
              "61154      1          0\n",
              "61155      1          0\n",
              "61156      1          0\n",
              "...      ...        ...\n",
              "61441     10          7\n",
              "61442     10          5\n",
              "61443     10          9\n",
              "61444     10          9\n",
              "61445     10         10\n",
              "\n",
              "[294 rows x 2 columns]"
            ]
          },
          "metadata": {},
          "execution_count": 145
        }
      ]
    },
    {
      "cell_type": "code",
      "metadata": {
        "colab": {
          "base_uri": "https://localhost:8080/",
          "height": 372
        },
        "id": "Fn2xIGc6S6oy",
        "outputId": "d204c719-c715-4be0-f7d9-555db5401f23"
      },
      "source": [
        "q19df.boxplot(by = 'Month')"
      ],
      "execution_count": 150,
      "outputs": [
        {
          "output_type": "stream",
          "name": "stderr",
          "text": [
            "/usr/local/lib/python3.7/dist-packages/numpy/core/_asarray.py:83: VisibleDeprecationWarning: Creating an ndarray from ragged nested sequences (which is a list-or-tuple of lists-or-tuples-or ndarrays with different lengths or shapes) is deprecated. If you meant to do this, you must specify 'dtype=object' when creating the ndarray\n",
            "  return array(a, dtype, copy=False, order=order)\n"
          ]
        },
        {
          "output_type": "execute_result",
          "data": {
            "text/plain": [
              "<matplotlib.axes._subplots.AxesSubplot at 0x7fb6ba2904d0>"
            ]
          },
          "metadata": {},
          "execution_count": 150
        },
        {
          "output_type": "display_data",
          "data": {
            "image/png": "[encoded data removed]",
            "text/plain": [
              "<Figure size 432x288 with 1 Axes>"
            ]
          },
          "metadata": {
            "needs_background": "light"
          }
        }
      ]
    },
    {
      "cell_type": "markdown",
      "metadata": {
        "id": "9bdkLEOd9wa5"
      },
      "source": [
        "### <span style=\"color: blue;\">Q20. Only Southeast Asia (SEARO), show the total new cases by month and by country by using HeatMap</span>"
      ]
    },
    {
      "cell_type": "code",
      "metadata": {
        "id": "759G_lXd9wa5",
        "outputId": "ef620d99-48ef-476f-b028-253fe7f5acdc"
      },
      "source": [
        ""
      ],
      "execution_count": null,
      "outputs": [
        {
          "data": {
            "text/plain": [
              "<matplotlib.axes._subplots.AxesSubplot at 0x7fc16165d7d0>"
            ]
          },
          "execution_count": 97,
          "metadata": {},
          "output_type": "execute_result"
        },
        {
          "data": {
            "image/png": "[encoded data removed]",
            "text/plain": [
              "<Figure size 432x288 with 2 Axes>"
            ]
          },
          "metadata": {
            "needs_background": "light"
          },
          "output_type": "display_data"
        }
      ]
    },
    {
      "cell_type": "code",
      "metadata": {
        "colab": {
          "base_uri": "https://localhost:8080/",
          "height": 204
        },
        "id": "GzzUC2AnToeV",
        "outputId": "bac64342-d658-4340-e82d-fede8b6ce456"
      },
      "source": [
        "SEARO = df.loc[(df['WHO_region'] == 'SEARO')]\n",
        "SEARO.head()"
      ],
      "execution_count": 152,
      "outputs": [
        {
          "output_type": "execute_result",
          "data": {
            "text/html": [
              "<div>\n",
              "<style scoped>\n",
              "    .dataframe tbody tr th:only-of-type {\n",
              "        vertical-align: middle;\n",
              "    }\n",
              "\n",
              "    .dataframe tbody tr th {\n",
              "        vertical-align: top;\n",
              "    }\n",
              "\n",
              "    .dataframe thead th {\n",
              "        text-align: right;\n",
              "    }\n",
              "</style>\n",
              "<table border=\"1\" class=\"dataframe\">\n",
              "  <thead>\n",
              "    <tr style=\"text-align: right;\">\n",
              "      <th></th>\n",
              "      <th>Date_reported</th>\n",
              "      <th>Country_code</th>\n",
              "      <th>Country</th>\n",
              "      <th>WHO_region</th>\n",
              "      <th>New_cases</th>\n",
              "      <th>Cumulative_cases</th>\n",
              "      <th>New_deaths</th>\n",
              "      <th>Cumulative_deaths</th>\n",
              "      <th>Report_date</th>\n",
              "      <th>Month</th>\n",
              "    </tr>\n",
              "  </thead>\n",
              "  <tbody>\n",
              "    <tr>\n",
              "      <th>4704</th>\n",
              "      <td>2020-01-03</td>\n",
              "      <td>BD</td>\n",
              "      <td>Bangladesh</td>\n",
              "      <td>SEARO</td>\n",
              "      <td>0</td>\n",
              "      <td>0</td>\n",
              "      <td>0</td>\n",
              "      <td>0</td>\n",
              "      <td>2020-01-03</td>\n",
              "      <td>1</td>\n",
              "    </tr>\n",
              "    <tr>\n",
              "      <th>4705</th>\n",
              "      <td>2020-01-04</td>\n",
              "      <td>BD</td>\n",
              "      <td>Bangladesh</td>\n",
              "      <td>SEARO</td>\n",
              "      <td>0</td>\n",
              "      <td>0</td>\n",
              "      <td>0</td>\n",
              "      <td>0</td>\n",
              "      <td>2020-01-04</td>\n",
              "      <td>1</td>\n",
              "    </tr>\n",
              "    <tr>\n",
              "      <th>4706</th>\n",
              "      <td>2020-01-05</td>\n",
              "      <td>BD</td>\n",
              "      <td>Bangladesh</td>\n",
              "      <td>SEARO</td>\n",
              "      <td>0</td>\n",
              "      <td>0</td>\n",
              "      <td>0</td>\n",
              "      <td>0</td>\n",
              "      <td>2020-01-05</td>\n",
              "      <td>1</td>\n",
              "    </tr>\n",
              "    <tr>\n",
              "      <th>4707</th>\n",
              "      <td>2020-01-06</td>\n",
              "      <td>BD</td>\n",
              "      <td>Bangladesh</td>\n",
              "      <td>SEARO</td>\n",
              "      <td>0</td>\n",
              "      <td>0</td>\n",
              "      <td>0</td>\n",
              "      <td>0</td>\n",
              "      <td>2020-01-06</td>\n",
              "      <td>1</td>\n",
              "    </tr>\n",
              "    <tr>\n",
              "      <th>4708</th>\n",
              "      <td>2020-01-07</td>\n",
              "      <td>BD</td>\n",
              "      <td>Bangladesh</td>\n",
              "      <td>SEARO</td>\n",
              "      <td>0</td>\n",
              "      <td>0</td>\n",
              "      <td>0</td>\n",
              "      <td>0</td>\n",
              "      <td>2020-01-07</td>\n",
              "      <td>1</td>\n",
              "    </tr>\n",
              "  </tbody>\n",
              "</table>\n",
              "</div>"
            ],
            "text/plain": [
              "     Date_reported Country_code  ... Report_date Month\n",
              "4704    2020-01-03           BD  ...  2020-01-03     1\n",
              "4705    2020-01-04           BD  ...  2020-01-04     1\n",
              "4706    2020-01-05           BD  ...  2020-01-05     1\n",
              "4707    2020-01-06           BD  ...  2020-01-06     1\n",
              "4708    2020-01-07           BD  ...  2020-01-07     1\n",
              "\n",
              "[5 rows x 10 columns]"
            ]
          },
          "metadata": {},
          "execution_count": 152
        }
      ]
    },
    {
      "cell_type": "code",
      "metadata": {
        "colab": {
          "base_uri": "https://localhost:8080/",
          "height": 419
        },
        "id": "9mN5_4JsUATT",
        "outputId": "9164c8e2-be40-4609-c8d8-732a3893ecbc"
      },
      "source": [
        "q20 = SEARO.groupby(by=['Country', 'Month'])[['New_cases']].sum()\n",
        "q20 = q20.reset_index()\n",
        "q20"
      ],
      "execution_count": 179,
      "outputs": [
        {
          "output_type": "execute_result",
          "data": {
            "text/html": [
              "<div>\n",
              "<style scoped>\n",
              "    .dataframe tbody tr th:only-of-type {\n",
              "        vertical-align: middle;\n",
              "    }\n",
              "\n",
              "    .dataframe tbody tr th {\n",
              "        vertical-align: top;\n",
              "    }\n",
              "\n",
              "    .dataframe thead th {\n",
              "        text-align: right;\n",
              "    }\n",
              "</style>\n",
              "<table border=\"1\" class=\"dataframe\">\n",
              "  <thead>\n",
              "    <tr style=\"text-align: right;\">\n",
              "      <th></th>\n",
              "      <th>Country</th>\n",
              "      <th>Month</th>\n",
              "      <th>New_cases</th>\n",
              "    </tr>\n",
              "  </thead>\n",
              "  <tbody>\n",
              "    <tr>\n",
              "      <th>0</th>\n",
              "      <td>Bangladesh</td>\n",
              "      <td>1</td>\n",
              "      <td>0</td>\n",
              "    </tr>\n",
              "    <tr>\n",
              "      <th>1</th>\n",
              "      <td>Bangladesh</td>\n",
              "      <td>2</td>\n",
              "      <td>0</td>\n",
              "    </tr>\n",
              "    <tr>\n",
              "      <th>2</th>\n",
              "      <td>Bangladesh</td>\n",
              "      <td>3</td>\n",
              "      <td>49</td>\n",
              "    </tr>\n",
              "    <tr>\n",
              "      <th>3</th>\n",
              "      <td>Bangladesh</td>\n",
              "      <td>4</td>\n",
              "      <td>7618</td>\n",
              "    </tr>\n",
              "    <tr>\n",
              "      <th>4</th>\n",
              "      <td>Bangladesh</td>\n",
              "      <td>5</td>\n",
              "      <td>39486</td>\n",
              "    </tr>\n",
              "    <tr>\n",
              "      <th>...</th>\n",
              "      <td>...</td>\n",
              "      <td>...</td>\n",
              "      <td>...</td>\n",
              "    </tr>\n",
              "    <tr>\n",
              "      <th>105</th>\n",
              "      <td>Timor-Leste</td>\n",
              "      <td>6</td>\n",
              "      <td>0</td>\n",
              "    </tr>\n",
              "    <tr>\n",
              "      <th>106</th>\n",
              "      <td>Timor-Leste</td>\n",
              "      <td>7</td>\n",
              "      <td>0</td>\n",
              "    </tr>\n",
              "    <tr>\n",
              "      <th>107</th>\n",
              "      <td>Timor-Leste</td>\n",
              "      <td>8</td>\n",
              "      <td>3</td>\n",
              "    </tr>\n",
              "    <tr>\n",
              "      <th>108</th>\n",
              "      <td>Timor-Leste</td>\n",
              "      <td>9</td>\n",
              "      <td>1</td>\n",
              "    </tr>\n",
              "    <tr>\n",
              "      <th>109</th>\n",
              "      <td>Timor-Leste</td>\n",
              "      <td>10</td>\n",
              "      <td>1</td>\n",
              "    </tr>\n",
              "  </tbody>\n",
              "</table>\n",
              "<p>110 rows × 3 columns</p>\n",
              "</div>"
            ],
            "text/plain": [
              "         Country  Month  New_cases\n",
              "0     Bangladesh      1          0\n",
              "1     Bangladesh      2          0\n",
              "2     Bangladesh      3         49\n",
              "3     Bangladesh      4       7618\n",
              "4     Bangladesh      5      39486\n",
              "..           ...    ...        ...\n",
              "105  Timor-Leste      6          0\n",
              "106  Timor-Leste      7          0\n",
              "107  Timor-Leste      8          3\n",
              "108  Timor-Leste      9          1\n",
              "109  Timor-Leste     10          1\n",
              "\n",
              "[110 rows x 3 columns]"
            ]
          },
          "metadata": {},
          "execution_count": 179
        }
      ]
    },
    {
      "cell_type": "code",
      "metadata": {
        "colab": {
          "base_uri": "https://localhost:8080/",
          "height": 421
        },
        "id": "KpHjBRd7XX9s",
        "outputId": "1e88cacc-e7f2-4912-cb1a-11ec78b1ab3a"
      },
      "source": [
        "df20 = q20.pivot('Country', 'Month', 'New_cases')\n",
        "df20"
      ],
      "execution_count": 181,
      "outputs": [
        {
          "output_type": "execute_result",
          "data": {
            "text/html": [
              "<div>\n",
              "<style scoped>\n",
              "    .dataframe tbody tr th:only-of-type {\n",
              "        vertical-align: middle;\n",
              "    }\n",
              "\n",
              "    .dataframe tbody tr th {\n",
              "        vertical-align: top;\n",
              "    }\n",
              "\n",
              "    .dataframe thead th {\n",
              "        text-align: right;\n",
              "    }\n",
              "</style>\n",
              "<table border=\"1\" class=\"dataframe\">\n",
              "  <thead>\n",
              "    <tr style=\"text-align: right;\">\n",
              "      <th>Month</th>\n",
              "      <th>1</th>\n",
              "      <th>2</th>\n",
              "      <th>3</th>\n",
              "      <th>4</th>\n",
              "      <th>5</th>\n",
              "      <th>6</th>\n",
              "      <th>7</th>\n",
              "      <th>8</th>\n",
              "      <th>9</th>\n",
              "      <th>10</th>\n",
              "    </tr>\n",
              "    <tr>\n",
              "      <th>Country</th>\n",
              "      <th></th>\n",
              "      <th></th>\n",
              "      <th></th>\n",
              "      <th></th>\n",
              "      <th></th>\n",
              "      <th></th>\n",
              "      <th></th>\n",
              "      <th></th>\n",
              "      <th></th>\n",
              "      <th></th>\n",
              "    </tr>\n",
              "  </thead>\n",
              "  <tbody>\n",
              "    <tr>\n",
              "      <th>Bangladesh</th>\n",
              "      <td>0</td>\n",
              "      <td>0</td>\n",
              "      <td>49</td>\n",
              "      <td>7618</td>\n",
              "      <td>39486</td>\n",
              "      <td>94648</td>\n",
              "      <td>93088</td>\n",
              "      <td>75933</td>\n",
              "      <td>51221</td>\n",
              "      <td>31088</td>\n",
              "    </tr>\n",
              "    <tr>\n",
              "      <th>Bhutan</th>\n",
              "      <td>0</td>\n",
              "      <td>0</td>\n",
              "      <td>4</td>\n",
              "      <td>3</td>\n",
              "      <td>36</td>\n",
              "      <td>34</td>\n",
              "      <td>24</td>\n",
              "      <td>123</td>\n",
              "      <td>57</td>\n",
              "      <td>51</td>\n",
              "    </tr>\n",
              "    <tr>\n",
              "      <th>Democratic People's Republic of Korea</th>\n",
              "      <td>0</td>\n",
              "      <td>0</td>\n",
              "      <td>0</td>\n",
              "      <td>0</td>\n",
              "      <td>0</td>\n",
              "      <td>0</td>\n",
              "      <td>0</td>\n",
              "      <td>0</td>\n",
              "      <td>0</td>\n",
              "      <td>0</td>\n",
              "    </tr>\n",
              "    <tr>\n",
              "      <th>India</th>\n",
              "      <td>5</td>\n",
              "      <td>2</td>\n",
              "      <td>1244</td>\n",
              "      <td>31799</td>\n",
              "      <td>149093</td>\n",
              "      <td>384697</td>\n",
              "      <td>1072030</td>\n",
              "      <td>1982375</td>\n",
              "      <td>2604518</td>\n",
              "      <td>1481183</td>\n",
              "    </tr>\n",
              "    <tr>\n",
              "      <th>Indonesia</th>\n",
              "      <td>0</td>\n",
              "      <td>0</td>\n",
              "      <td>1528</td>\n",
              "      <td>8590</td>\n",
              "      <td>16355</td>\n",
              "      <td>28619</td>\n",
              "      <td>51244</td>\n",
              "      <td>65717</td>\n",
              "      <td>110671</td>\n",
              "      <td>90385</td>\n",
              "    </tr>\n",
              "    <tr>\n",
              "      <th>Maldives</th>\n",
              "      <td>0</td>\n",
              "      <td>0</td>\n",
              "      <td>17</td>\n",
              "      <td>379</td>\n",
              "      <td>1276</td>\n",
              "      <td>665</td>\n",
              "      <td>1382</td>\n",
              "      <td>3948</td>\n",
              "      <td>2527</td>\n",
              "      <td>1122</td>\n",
              "    </tr>\n",
              "    <tr>\n",
              "      <th>Myanmar</th>\n",
              "      <td>0</td>\n",
              "      <td>0</td>\n",
              "      <td>14</td>\n",
              "      <td>136</td>\n",
              "      <td>74</td>\n",
              "      <td>75</td>\n",
              "      <td>54</td>\n",
              "      <td>422</td>\n",
              "      <td>11650</td>\n",
              "      <td>27271</td>\n",
              "    </tr>\n",
              "    <tr>\n",
              "      <th>Nepal</th>\n",
              "      <td>5</td>\n",
              "      <td>0</td>\n",
              "      <td>0</td>\n",
              "      <td>52</td>\n",
              "      <td>1515</td>\n",
              "      <td>11676</td>\n",
              "      <td>6299</td>\n",
              "      <td>19014</td>\n",
              "      <td>37697</td>\n",
              "      <td>68614</td>\n",
              "    </tr>\n",
              "    <tr>\n",
              "      <th>Sri Lanka</th>\n",
              "      <td>5</td>\n",
              "      <td>0</td>\n",
              "      <td>117</td>\n",
              "      <td>527</td>\n",
              "      <td>981</td>\n",
              "      <td>412</td>\n",
              "      <td>772</td>\n",
              "      <td>198</td>\n",
              "      <td>362</td>\n",
              "      <td>2604</td>\n",
              "    </tr>\n",
              "    <tr>\n",
              "      <th>Thailand</th>\n",
              "      <td>23</td>\n",
              "      <td>23</td>\n",
              "      <td>1605</td>\n",
              "      <td>1303</td>\n",
              "      <td>127</td>\n",
              "      <td>90</td>\n",
              "      <td>139</td>\n",
              "      <td>102</td>\n",
              "      <td>152</td>\n",
              "      <td>155</td>\n",
              "    </tr>\n",
              "    <tr>\n",
              "      <th>Timor-Leste</th>\n",
              "      <td>0</td>\n",
              "      <td>0</td>\n",
              "      <td>1</td>\n",
              "      <td>23</td>\n",
              "      <td>0</td>\n",
              "      <td>0</td>\n",
              "      <td>0</td>\n",
              "      <td>3</td>\n",
              "      <td>1</td>\n",
              "      <td>1</td>\n",
              "    </tr>\n",
              "  </tbody>\n",
              "</table>\n",
              "</div>"
            ],
            "text/plain": [
              "Month                                  1   2     3   ...       8        9        10\n",
              "Country                                              ...                           \n",
              "Bangladesh                              0   0    49  ...    75933    51221    31088\n",
              "Bhutan                                  0   0     4  ...      123       57       51\n",
              "Democratic People's Republic of Korea   0   0     0  ...        0        0        0\n",
              "India                                   5   2  1244  ...  1982375  2604518  1481183\n",
              "Indonesia                               0   0  1528  ...    65717   110671    90385\n",
              "Maldives                                0   0    17  ...     3948     2527     1122\n",
              "Myanmar                                 0   0    14  ...      422    11650    27271\n",
              "Nepal                                   5   0     0  ...    19014    37697    68614\n",
              "Sri Lanka                               5   0   117  ...      198      362     2604\n",
              "Thailand                               23  23  1605  ...      102      152      155\n",
              "Timor-Leste                             0   0     1  ...        3        1        1\n",
              "\n",
              "[11 rows x 10 columns]"
            ]
          },
          "metadata": {},
          "execution_count": 181
        }
      ]
    },
    {
      "cell_type": "code",
      "metadata": {
        "colab": {
          "base_uri": "https://localhost:8080/",
          "height": 307
        },
        "id": "gmOuHmJRVpYa",
        "outputId": "db6ea856-d921-4286-a0c0-8f17797b6e8f"
      },
      "source": [
        "import seaborn as sns\n",
        "sns.heatmap(data = df20\n",
        "            )"
      ],
      "execution_count": 184,
      "outputs": [
        {
          "output_type": "execute_result",
          "data": {
            "text/plain": [
              "<matplotlib.axes._subplots.AxesSubplot at 0x7fb6a2747b90>"
            ]
          },
          "metadata": {},
          "execution_count": 184
        },
        {
          "output_type": "display_data",
          "data": {
            "image/png": "[encoded data removed]",
            "text/plain": [
              "<Figure size 432x288 with 2 Axes>"
            ]
          },
          "metadata": {
            "needs_background": "light"
          }
        }
      ]
    }
  ]
}